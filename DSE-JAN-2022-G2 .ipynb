{
 "cells": [
  {
   "cell_type": "markdown",
   "id": "219af8e7",
   "metadata": {},
   "source": [
    "# Airline Passenger Satisfaction Analysis using Machine Learning Techniques\n"
   ]
  },
  {
   "cell_type": "markdown",
   "id": "c4a55542",
   "metadata": {},
   "source": [
    "### 1) Load the required libraries"
   ]
  },
  {
   "cell_type": "code",
   "execution_count": 1,
   "id": "f0b07e86",
   "metadata": {},
   "outputs": [],
   "source": [
    "# import 'os'\n",
    "import  os\n",
    "\n",
    "# import 'Pandas' \n",
    "import pandas as pd \n",
    "\n",
    "# import 'Numpy' \n",
    "import numpy as np\n",
    "\n",
    "# import 'matplotlib.pyplot' \n",
    "import matplotlib.pyplot as plt\n",
    "\n",
    "# import 'Seaborn' \n",
    "import seaborn as sns\n",
    "\n",
    "# to suppress warnings \n",
    "from warnings import filterwarnings\n",
    "filterwarnings('ignore')\n",
    "\n",
    "# display all columns of the dataframe\n",
    "pd.options.display.max_columns = None\n",
    "\n",
    "# display all rows of the dataframe\n",
    "pd.options.display.max_rows = None\n",
    " \n",
    "# to suppress the notation 'e'    \n",
    "pd.options.display.float_format = '{:.6f}'.format\n",
    "\n",
    "# import various metrics from 'Scikit-learn' (sklearn)\n",
    "from sklearn.model_selection import train_test_split\n",
    "\n",
    "from   sklearn.preprocessing    import  OrdinalEncoder\n",
    "from   sklearn.preprocessing    import  LabelEncoder\n",
    "labelencoder = LabelEncoder()"
   ]
  },
  {
   "cell_type": "code",
   "execution_count": 2,
   "id": "d6acc84a",
   "metadata": {},
   "outputs": [],
   "source": [
    "import time\n",
    "from    datetime   import datetime\n",
    "from    datetime   import timedelta\n",
    "\n",
    "start_time = time.time()"
   ]
  },
  {
   "cell_type": "code",
   "execution_count": 3,
   "id": "15d0fb71",
   "metadata": {},
   "outputs": [],
   "source": [
    "# Figure size\n",
    "sns.set(rc={'figure.figsize':(10,10)}) #width=10, #height=10"
   ]
  },
  {
   "cell_type": "code",
   "execution_count": 4,
   "id": "e289ac62",
   "metadata": {},
   "outputs": [],
   "source": [
    "# 'Statsmodels' is used to build and analyze various statistical models\n",
    "import statsmodels\n",
    "import statsmodels.api                        as      sm\n",
    "import statsmodels.stats.api                  as      sms\n",
    "import statsmodels.formula.api                as      smf\n",
    "\n",
    "from    statsmodels.tools.eval_measures       import   rmse\n",
    "from    statsmodels.compat                    import   lzip\n",
    "from    statsmodels.stats.outliers_influence  import   variance_inflation_factor\n",
    "from    statsmodels.stats.diagnostic          import   linear_rainbow\n",
    "\n",
    "import  statsmodels.tsa.api                   as       smt\n",
    "from    statsmodels.graphics.gofplots         import   qqplot\n",
    "from    statsmodels.stats.stattools           import   durbin_watson\n",
    "\n",
    "# 'SciPy' is used to perform scientific computations\n",
    "from    scipy                                 import   stats\n",
    "from    scipy.stats                           import   shapiro\n",
    "\n",
    "# 'metrics' from sklearn is used for evaluating the model performance\n",
    "from    sklearn.metrics                       import   mean_absolute_error\n",
    "from    sklearn.metrics                       import   mean_squared_error"
   ]
  },
  {
   "cell_type": "code",
   "execution_count": 5,
   "id": "ef8fc2f1",
   "metadata": {},
   "outputs": [],
   "source": [
    "import pandas                         as     pd\n",
    "import numpy                          as     np\n",
    "import seaborn                        as     sns\n",
    "import matplotlib.pyplot              as     plt\n",
    "import statsmodels.api                as     sm\n",
    "import sys, os, six\n",
    "\n",
    "from   sklearn                        import  metrics \n",
    "from   sklearn.metrics                import  classification_report\n",
    "from   sklearn.metrics                import  confusion_matrix\n",
    "from   sklearn.metrics                import  roc_curve, auc\n",
    "from   sklearn.model_selection        import  train_test_split, cross_val_score\n",
    "# !pip install pydotplus ### if not available in the Python Environment\n",
    "#import pydotplus\n",
    "\n",
    "# !pip install pydot ### if not available in the Python Environment\n",
    "#import pydot\n",
    "\n",
    "## ! pip install  graphviz  ### if not available in the Python Environment"
   ]
  },
  {
   "cell_type": "code",
   "execution_count": 6,
   "id": "1b731d66",
   "metadata": {},
   "outputs": [],
   "source": [
    "### Imputing missing numerical values using the IterativeImputer class in sklearn \n",
    "\n",
    "from sklearn.experimental  import   enable_iterative_imputer\n",
    "from sklearn.impute        import   IterativeImputer\n",
    "from sklearn.linear_model   import   LinearRegression\n"
   ]
  },
  {
   "cell_type": "code",
   "execution_count": 7,
   "id": "cbc779b2",
   "metadata": {},
   "outputs": [],
   "source": [
    "from   sklearn                  import  tree\n",
    "from   sklearn.tree             import  DecisionTreeClassifier\n",
    "from   sklearn.tree             import _tree"
   ]
  },
  {
   "cell_type": "code",
   "execution_count": 8,
   "id": "d99a1bd5",
   "metadata": {},
   "outputs": [],
   "source": [
    "def missing_zero_values_table(df):\n",
    "        zero_val = (df == 0.00).astype(int).sum(axis=0)\n",
    "        mis_val = df.isnull().sum()\n",
    "        mis_val_percent = 100 * df.isnull().sum() / len(df)\n",
    "        mz_table = pd.concat([zero_val, mis_val, mis_val_percent], axis=1)\n",
    "        mz_table = mz_table.rename(\n",
    "        columns = {0 : 'Zero Values', 1 : 'Missing Values', 2 : '% of Total Values'})\n",
    "        mz_table['Total Zero & Missing Values'] = mz_table['Zero Values'] + mz_table['Missing Values']\n",
    "        mz_table['% Total Zero & Missing Values'] = 100 * mz_table['Total Zero & Missing Values'] / len(df)\n",
    "        mz_table['Data Type'] = df.dtypes\n",
    "        mz_table = mz_table[\n",
    "            mz_table.iloc[:,1] != 0].sort_values(\n",
    "        '% of Total Values', ascending=False).round(1)\n",
    "        print (\"Your selected dataframe has \" + str(df.shape[1]) + \" columns and \" + str(df.shape[0]) + \" Rows.\\n\"      \n",
    "            \"There are \" + str(mz_table.shape[0]) +\n",
    "              \" columns that have missing values.\")\n",
    "#         mz_table.to_excel('D:/sampledata/missing_and_zero_values.xlsx', freeze_panes=(1,0), index = False)\n",
    "        return mz_table"
   ]
  },
  {
   "cell_type": "markdown",
   "id": "54832252",
   "metadata": {},
   "source": [
    "# Attributes"
   ]
  },
  {
   "cell_type": "raw",
   "id": "b697f81c",
   "metadata": {},
   "source": [
    "ATTRIBUTES\n",
    "Id: Id number of the passengers\n",
    "Gender: Gender of the passengers (Female, Male)\n",
    "Customer Type: The customer type (Loyal customer, disloyal customer)\n",
    "Age: The actual age of the passengers\n",
    "Type of Travel: Purpose of the flight of the passengers (Personal Travel, Business Travel)\n",
    "Class: Travel class in the plane of the passengers (Business, Eco, Eco Plus)\n",
    "Flight Distance: The flight distance of this journey\n",
    "Inflight wifi service: Satisfaction level of the inflight wifi service (0,1,2,3,4,5/ 0=Not Applicable; 1=Least Satisfied to 5=Most Satisfied)\n",
    "Departure/Arrival time convenient: Satisfaction level of Departure/Arrival time convenient (0,1,2,3,4,5/ 0=Not Applicable; 1=Least Satisfied to 5=Most Satisfied)\n",
    "Ease of Online booking: Satisfaction level of online booking (0,1,2,3,4,5/ 0=Not Applicable; 1=Least Satisfied to 5=Most Satisfied)\n",
    "Gate location: Satisfaction level of Gate location (0,1,2,3,4,5/ 0=Not Applicable; 1=Least Satisfied to 5=Most Satisfied)\n",
    "Food and drink: Satisfaction level of Food and drink service (0,1,2,3,4,5/ 0=Not Applicable; 1=Least Satisfied to 5=Most Satisfied)\n",
    "Online boarding: Satisfaction level of online boarding (0,1,2,3,4,5/ 0=Not Applicable; 1=Least Satisfied to 5=Most Satisfied)\n",
    "Seat comfort: Satisfaction level of Seat comfort (0,1,2,3,4,5/ 0=Not Applicable; 1=Least Satisfied to 5=Most Satisfied)\n",
    "Inflight entertainment: Satisfaction level of inflight entertainment (0,1,2,3,4,5/ 0=Not Applicable; 1=Least Satisfied to 5=Most Satisfied)\n",
    "On-board service: Satisfaction level of On-board service (0,1,2,3,4,5/ 0=Not Applicable; 1=Least Satisfied to 5=Most Satisfied)\n",
    "Leg room service: Satisfaction level of Leg room service (0,1,2,3,4,5/ 0=Not Applicable; 1=Least Satisfied to 5=Most Satisfied)\n",
    "Baggage handling: Satisfaction level of baggage handling (1,2,3,4,5/ 1=Least Satisfied to 5=Most Satisfied)\n",
    "Checkin service: Satisfaction level of Check-in service (0,1,2,3,4,5/ 0=Not Applicable; 1=Least Satisfied to 5=Most Satisfied)\n",
    "Inflight service: Satisfaction level of inflight service (0,1,2,3,4,5/ 0=Not Applicable; 1=Least Satisfied to 5=Most Satisfied)\n",
    "Cleanliness: Satisfaction level of Cleanliness (0,1,2,3,4,5/ 0=Not Applicable; 1=Least Satisfied to 5=Most Satisfied)\n",
    "Departure Delay in Minutes: Minutes delayed when departure\n",
    "Arrival Delay in Minutes: Minutes delayed when arrival\n",
    "Satisfaction: /output column/ Airline satisfaction level ('satisfied', 'neutral or dissatisfied')"
   ]
  },
  {
   "cell_type": "markdown",
   "id": "353f7698",
   "metadata": {},
   "source": [
    "### 2) Read Data File"
   ]
  },
  {
   "cell_type": "code",
   "execution_count": 9,
   "id": "5b2406d5",
   "metadata": {},
   "outputs": [
    {
     "data": {
      "text/html": [
       "<div>\n",
       "<style scoped>\n",
       "    .dataframe tbody tr th:only-of-type {\n",
       "        vertical-align: middle;\n",
       "    }\n",
       "\n",
       "    .dataframe tbody tr th {\n",
       "        vertical-align: top;\n",
       "    }\n",
       "\n",
       "    .dataframe thead th {\n",
       "        text-align: right;\n",
       "    }\n",
       "</style>\n",
       "<table border=\"1\" class=\"dataframe\">\n",
       "  <thead>\n",
       "    <tr style=\"text-align: right;\">\n",
       "      <th></th>\n",
       "      <th>0</th>\n",
       "      <th>1</th>\n",
       "      <th>2</th>\n",
       "      <th>3</th>\n",
       "      <th>4</th>\n",
       "    </tr>\n",
       "  </thead>\n",
       "  <tbody>\n",
       "    <tr>\n",
       "      <th>SR</th>\n",
       "      <td>0</td>\n",
       "      <td>1</td>\n",
       "      <td>2</td>\n",
       "      <td>3</td>\n",
       "      <td>4</td>\n",
       "    </tr>\n",
       "    <tr>\n",
       "      <th>id</th>\n",
       "      <td>70172</td>\n",
       "      <td>5047</td>\n",
       "      <td>110028</td>\n",
       "      <td>24026</td>\n",
       "      <td>119299</td>\n",
       "    </tr>\n",
       "    <tr>\n",
       "      <th>Gender</th>\n",
       "      <td>Male</td>\n",
       "      <td>Male</td>\n",
       "      <td>Female</td>\n",
       "      <td>Female</td>\n",
       "      <td>Male</td>\n",
       "    </tr>\n",
       "    <tr>\n",
       "      <th>Customer_Type</th>\n",
       "      <td>Loyal Customer</td>\n",
       "      <td>disloyal Customer</td>\n",
       "      <td>Loyal Customer</td>\n",
       "      <td>Loyal Customer</td>\n",
       "      <td>Loyal Customer</td>\n",
       "    </tr>\n",
       "    <tr>\n",
       "      <th>Age</th>\n",
       "      <td>13</td>\n",
       "      <td>25</td>\n",
       "      <td>26</td>\n",
       "      <td>25</td>\n",
       "      <td>61</td>\n",
       "    </tr>\n",
       "    <tr>\n",
       "      <th>Type_of_Travel</th>\n",
       "      <td>Personal Travel</td>\n",
       "      <td>Business travel</td>\n",
       "      <td>Business travel</td>\n",
       "      <td>Business travel</td>\n",
       "      <td>Business travel</td>\n",
       "    </tr>\n",
       "    <tr>\n",
       "      <th>Class</th>\n",
       "      <td>Eco Plus</td>\n",
       "      <td>Business</td>\n",
       "      <td>Business</td>\n",
       "      <td>Business</td>\n",
       "      <td>Business</td>\n",
       "    </tr>\n",
       "    <tr>\n",
       "      <th>Flight_Distance</th>\n",
       "      <td>460</td>\n",
       "      <td>235</td>\n",
       "      <td>1142</td>\n",
       "      <td>562</td>\n",
       "      <td>214</td>\n",
       "    </tr>\n",
       "    <tr>\n",
       "      <th>Inflight_wifi_service</th>\n",
       "      <td>3</td>\n",
       "      <td>3</td>\n",
       "      <td>2</td>\n",
       "      <td>2</td>\n",
       "      <td>3</td>\n",
       "    </tr>\n",
       "    <tr>\n",
       "      <th>Departure/Arrival_time_convenient</th>\n",
       "      <td>4</td>\n",
       "      <td>2</td>\n",
       "      <td>2</td>\n",
       "      <td>5</td>\n",
       "      <td>3</td>\n",
       "    </tr>\n",
       "    <tr>\n",
       "      <th>Ease_of_Online_booking</th>\n",
       "      <td>3</td>\n",
       "      <td>3</td>\n",
       "      <td>2</td>\n",
       "      <td>5</td>\n",
       "      <td>3</td>\n",
       "    </tr>\n",
       "    <tr>\n",
       "      <th>Gate_location</th>\n",
       "      <td>1</td>\n",
       "      <td>3</td>\n",
       "      <td>2</td>\n",
       "      <td>5</td>\n",
       "      <td>3</td>\n",
       "    </tr>\n",
       "    <tr>\n",
       "      <th>Food_and_drink</th>\n",
       "      <td>5</td>\n",
       "      <td>1</td>\n",
       "      <td>5</td>\n",
       "      <td>2</td>\n",
       "      <td>4</td>\n",
       "    </tr>\n",
       "    <tr>\n",
       "      <th>Online_boarding</th>\n",
       "      <td>3</td>\n",
       "      <td>3</td>\n",
       "      <td>5</td>\n",
       "      <td>2</td>\n",
       "      <td>5</td>\n",
       "    </tr>\n",
       "    <tr>\n",
       "      <th>Seat_comfort</th>\n",
       "      <td>5</td>\n",
       "      <td>1</td>\n",
       "      <td>5</td>\n",
       "      <td>2</td>\n",
       "      <td>5</td>\n",
       "    </tr>\n",
       "    <tr>\n",
       "      <th>Inflight_entertainment</th>\n",
       "      <td>5</td>\n",
       "      <td>1</td>\n",
       "      <td>5</td>\n",
       "      <td>2</td>\n",
       "      <td>3</td>\n",
       "    </tr>\n",
       "    <tr>\n",
       "      <th>On-board_service</th>\n",
       "      <td>4</td>\n",
       "      <td>1</td>\n",
       "      <td>4</td>\n",
       "      <td>2</td>\n",
       "      <td>3</td>\n",
       "    </tr>\n",
       "    <tr>\n",
       "      <th>Leg_room_service</th>\n",
       "      <td>3</td>\n",
       "      <td>5</td>\n",
       "      <td>3</td>\n",
       "      <td>5</td>\n",
       "      <td>4</td>\n",
       "    </tr>\n",
       "    <tr>\n",
       "      <th>Baggage_handling</th>\n",
       "      <td>4</td>\n",
       "      <td>3</td>\n",
       "      <td>4</td>\n",
       "      <td>3</td>\n",
       "      <td>4</td>\n",
       "    </tr>\n",
       "    <tr>\n",
       "      <th>Checkin_service</th>\n",
       "      <td>4</td>\n",
       "      <td>1</td>\n",
       "      <td>4</td>\n",
       "      <td>1</td>\n",
       "      <td>3</td>\n",
       "    </tr>\n",
       "    <tr>\n",
       "      <th>Inflight_service</th>\n",
       "      <td>5</td>\n",
       "      <td>4</td>\n",
       "      <td>4</td>\n",
       "      <td>4</td>\n",
       "      <td>3</td>\n",
       "    </tr>\n",
       "    <tr>\n",
       "      <th>Cleanliness</th>\n",
       "      <td>5</td>\n",
       "      <td>1</td>\n",
       "      <td>5</td>\n",
       "      <td>2</td>\n",
       "      <td>3</td>\n",
       "    </tr>\n",
       "    <tr>\n",
       "      <th>Departure_Delay_in_Minutes</th>\n",
       "      <td>25</td>\n",
       "      <td>1</td>\n",
       "      <td>0</td>\n",
       "      <td>11</td>\n",
       "      <td>0</td>\n",
       "    </tr>\n",
       "    <tr>\n",
       "      <th>Arrival_Delay_in_Minutes</th>\n",
       "      <td>18.000000</td>\n",
       "      <td>6.000000</td>\n",
       "      <td>0.000000</td>\n",
       "      <td>9.000000</td>\n",
       "      <td>0.000000</td>\n",
       "    </tr>\n",
       "    <tr>\n",
       "      <th>satisfaction</th>\n",
       "      <td>neutral or dissatisfied</td>\n",
       "      <td>neutral or dissatisfied</td>\n",
       "      <td>satisfied</td>\n",
       "      <td>neutral or dissatisfied</td>\n",
       "      <td>satisfied</td>\n",
       "    </tr>\n",
       "  </tbody>\n",
       "</table>\n",
       "</div>"
      ],
      "text/plain": [
       "                                                         0  \\\n",
       "SR                                                       0   \n",
       "id                                                   70172   \n",
       "Gender                                                Male   \n",
       "Customer_Type                               Loyal Customer   \n",
       "Age                                                     13   \n",
       "Type_of_Travel                             Personal Travel   \n",
       "Class                                             Eco Plus   \n",
       "Flight_Distance                                        460   \n",
       "Inflight_wifi_service                                    3   \n",
       "Departure/Arrival_time_convenient                        4   \n",
       "Ease_of_Online_booking                                   3   \n",
       "Gate_location                                            1   \n",
       "Food_and_drink                                           5   \n",
       "Online_boarding                                          3   \n",
       "Seat_comfort                                             5   \n",
       "Inflight_entertainment                                   5   \n",
       "On-board_service                                         4   \n",
       "Leg_room_service                                         3   \n",
       "Baggage_handling                                         4   \n",
       "Checkin_service                                          4   \n",
       "Inflight_service                                         5   \n",
       "Cleanliness                                              5   \n",
       "Departure_Delay_in_Minutes                              25   \n",
       "Arrival_Delay_in_Minutes                         18.000000   \n",
       "satisfaction                       neutral or dissatisfied   \n",
       "\n",
       "                                                         1                2  \\\n",
       "SR                                                       1                2   \n",
       "id                                                    5047           110028   \n",
       "Gender                                                Male           Female   \n",
       "Customer_Type                            disloyal Customer   Loyal Customer   \n",
       "Age                                                     25               26   \n",
       "Type_of_Travel                             Business travel  Business travel   \n",
       "Class                                             Business         Business   \n",
       "Flight_Distance                                        235             1142   \n",
       "Inflight_wifi_service                                    3                2   \n",
       "Departure/Arrival_time_convenient                        2                2   \n",
       "Ease_of_Online_booking                                   3                2   \n",
       "Gate_location                                            3                2   \n",
       "Food_and_drink                                           1                5   \n",
       "Online_boarding                                          3                5   \n",
       "Seat_comfort                                             1                5   \n",
       "Inflight_entertainment                                   1                5   \n",
       "On-board_service                                         1                4   \n",
       "Leg_room_service                                         5                3   \n",
       "Baggage_handling                                         3                4   \n",
       "Checkin_service                                          1                4   \n",
       "Inflight_service                                         4                4   \n",
       "Cleanliness                                              1                5   \n",
       "Departure_Delay_in_Minutes                               1                0   \n",
       "Arrival_Delay_in_Minutes                          6.000000         0.000000   \n",
       "satisfaction                       neutral or dissatisfied        satisfied   \n",
       "\n",
       "                                                         3                4  \n",
       "SR                                                       3                4  \n",
       "id                                                   24026           119299  \n",
       "Gender                                              Female             Male  \n",
       "Customer_Type                               Loyal Customer   Loyal Customer  \n",
       "Age                                                     25               61  \n",
       "Type_of_Travel                             Business travel  Business travel  \n",
       "Class                                             Business         Business  \n",
       "Flight_Distance                                        562              214  \n",
       "Inflight_wifi_service                                    2                3  \n",
       "Departure/Arrival_time_convenient                        5                3  \n",
       "Ease_of_Online_booking                                   5                3  \n",
       "Gate_location                                            5                3  \n",
       "Food_and_drink                                           2                4  \n",
       "Online_boarding                                          2                5  \n",
       "Seat_comfort                                             2                5  \n",
       "Inflight_entertainment                                   2                3  \n",
       "On-board_service                                         2                3  \n",
       "Leg_room_service                                         5                4  \n",
       "Baggage_handling                                         3                4  \n",
       "Checkin_service                                          1                3  \n",
       "Inflight_service                                         4                3  \n",
       "Cleanliness                                              2                3  \n",
       "Departure_Delay_in_Minutes                              11                0  \n",
       "Arrival_Delay_in_Minutes                          9.000000         0.000000  \n",
       "satisfaction                       neutral or dissatisfied        satisfied  "
      ]
     },
     "execution_count": 9,
     "metadata": {},
     "output_type": "execute_result"
    }
   ],
   "source": [
    "filename                       =  r'G:\\DSE-Capstone\\DSE-C-Jan22-Group2\\Data\\airline_clnd.csv'\n",
    "airline_passenger_satisfaction =  pd.read_csv(filename)\n",
    "airline_passenger_satisfaction.head().T"
   ]
  },
  {
   "cell_type": "code",
   "execution_count": 10,
   "id": "a7fe20b5",
   "metadata": {},
   "outputs": [
    {
     "data": {
      "text/html": [
       "<div>\n",
       "<style scoped>\n",
       "    .dataframe tbody tr th:only-of-type {\n",
       "        vertical-align: middle;\n",
       "    }\n",
       "\n",
       "    .dataframe tbody tr th {\n",
       "        vertical-align: top;\n",
       "    }\n",
       "\n",
       "    .dataframe thead th {\n",
       "        text-align: right;\n",
       "    }\n",
       "</style>\n",
       "<table border=\"1\" class=\"dataframe\">\n",
       "  <thead>\n",
       "    <tr style=\"text-align: right;\">\n",
       "      <th></th>\n",
       "      <th>Gender</th>\n",
       "      <th>Customer_Type</th>\n",
       "      <th>Age</th>\n",
       "      <th>Type_of_Travel</th>\n",
       "      <th>Class</th>\n",
       "      <th>Flight_Distance</th>\n",
       "      <th>Inflight_wifi_service</th>\n",
       "      <th>Departure/Arrival_time_convenient</th>\n",
       "      <th>Ease_of_Online_booking</th>\n",
       "      <th>Gate_location</th>\n",
       "      <th>Food_and_drink</th>\n",
       "      <th>Online_boarding</th>\n",
       "      <th>Seat_comfort</th>\n",
       "      <th>Inflight_entertainment</th>\n",
       "      <th>On-board_service</th>\n",
       "      <th>Leg_room_service</th>\n",
       "      <th>Baggage_handling</th>\n",
       "      <th>Checkin_service</th>\n",
       "      <th>Inflight_service</th>\n",
       "      <th>Cleanliness</th>\n",
       "      <th>Departure_Delay_in_Minutes</th>\n",
       "      <th>Arrival_Delay_in_Minutes</th>\n",
       "      <th>satisfaction</th>\n",
       "    </tr>\n",
       "  </thead>\n",
       "  <tbody>\n",
       "    <tr>\n",
       "      <th>0</th>\n",
       "      <td>Male</td>\n",
       "      <td>Loyal Customer</td>\n",
       "      <td>13</td>\n",
       "      <td>Personal Travel</td>\n",
       "      <td>Eco Plus</td>\n",
       "      <td>460</td>\n",
       "      <td>3</td>\n",
       "      <td>4</td>\n",
       "      <td>3</td>\n",
       "      <td>1</td>\n",
       "      <td>5</td>\n",
       "      <td>3</td>\n",
       "      <td>5</td>\n",
       "      <td>5</td>\n",
       "      <td>4</td>\n",
       "      <td>3</td>\n",
       "      <td>4</td>\n",
       "      <td>4</td>\n",
       "      <td>5</td>\n",
       "      <td>5</td>\n",
       "      <td>25</td>\n",
       "      <td>18.000000</td>\n",
       "      <td>neutral or dissatisfied</td>\n",
       "    </tr>\n",
       "    <tr>\n",
       "      <th>1</th>\n",
       "      <td>Male</td>\n",
       "      <td>disloyal Customer</td>\n",
       "      <td>25</td>\n",
       "      <td>Business travel</td>\n",
       "      <td>Business</td>\n",
       "      <td>235</td>\n",
       "      <td>3</td>\n",
       "      <td>2</td>\n",
       "      <td>3</td>\n",
       "      <td>3</td>\n",
       "      <td>1</td>\n",
       "      <td>3</td>\n",
       "      <td>1</td>\n",
       "      <td>1</td>\n",
       "      <td>1</td>\n",
       "      <td>5</td>\n",
       "      <td>3</td>\n",
       "      <td>1</td>\n",
       "      <td>4</td>\n",
       "      <td>1</td>\n",
       "      <td>1</td>\n",
       "      <td>6.000000</td>\n",
       "      <td>neutral or dissatisfied</td>\n",
       "    </tr>\n",
       "    <tr>\n",
       "      <th>2</th>\n",
       "      <td>Female</td>\n",
       "      <td>Loyal Customer</td>\n",
       "      <td>26</td>\n",
       "      <td>Business travel</td>\n",
       "      <td>Business</td>\n",
       "      <td>1142</td>\n",
       "      <td>2</td>\n",
       "      <td>2</td>\n",
       "      <td>2</td>\n",
       "      <td>2</td>\n",
       "      <td>5</td>\n",
       "      <td>5</td>\n",
       "      <td>5</td>\n",
       "      <td>5</td>\n",
       "      <td>4</td>\n",
       "      <td>3</td>\n",
       "      <td>4</td>\n",
       "      <td>4</td>\n",
       "      <td>4</td>\n",
       "      <td>5</td>\n",
       "      <td>0</td>\n",
       "      <td>0.000000</td>\n",
       "      <td>satisfied</td>\n",
       "    </tr>\n",
       "    <tr>\n",
       "      <th>3</th>\n",
       "      <td>Female</td>\n",
       "      <td>Loyal Customer</td>\n",
       "      <td>25</td>\n",
       "      <td>Business travel</td>\n",
       "      <td>Business</td>\n",
       "      <td>562</td>\n",
       "      <td>2</td>\n",
       "      <td>5</td>\n",
       "      <td>5</td>\n",
       "      <td>5</td>\n",
       "      <td>2</td>\n",
       "      <td>2</td>\n",
       "      <td>2</td>\n",
       "      <td>2</td>\n",
       "      <td>2</td>\n",
       "      <td>5</td>\n",
       "      <td>3</td>\n",
       "      <td>1</td>\n",
       "      <td>4</td>\n",
       "      <td>2</td>\n",
       "      <td>11</td>\n",
       "      <td>9.000000</td>\n",
       "      <td>neutral or dissatisfied</td>\n",
       "    </tr>\n",
       "    <tr>\n",
       "      <th>4</th>\n",
       "      <td>Male</td>\n",
       "      <td>Loyal Customer</td>\n",
       "      <td>61</td>\n",
       "      <td>Business travel</td>\n",
       "      <td>Business</td>\n",
       "      <td>214</td>\n",
       "      <td>3</td>\n",
       "      <td>3</td>\n",
       "      <td>3</td>\n",
       "      <td>3</td>\n",
       "      <td>4</td>\n",
       "      <td>5</td>\n",
       "      <td>5</td>\n",
       "      <td>3</td>\n",
       "      <td>3</td>\n",
       "      <td>4</td>\n",
       "      <td>4</td>\n",
       "      <td>3</td>\n",
       "      <td>3</td>\n",
       "      <td>3</td>\n",
       "      <td>0</td>\n",
       "      <td>0.000000</td>\n",
       "      <td>satisfied</td>\n",
       "    </tr>\n",
       "  </tbody>\n",
       "</table>\n",
       "</div>"
      ],
      "text/plain": [
       "   Gender      Customer_Type  Age   Type_of_Travel     Class  Flight_Distance  \\\n",
       "0    Male     Loyal Customer   13  Personal Travel  Eco Plus              460   \n",
       "1    Male  disloyal Customer   25  Business travel  Business              235   \n",
       "2  Female     Loyal Customer   26  Business travel  Business             1142   \n",
       "3  Female     Loyal Customer   25  Business travel  Business              562   \n",
       "4    Male     Loyal Customer   61  Business travel  Business              214   \n",
       "\n",
       "   Inflight_wifi_service  Departure/Arrival_time_convenient  \\\n",
       "0                      3                                  4   \n",
       "1                      3                                  2   \n",
       "2                      2                                  2   \n",
       "3                      2                                  5   \n",
       "4                      3                                  3   \n",
       "\n",
       "   Ease_of_Online_booking  Gate_location  Food_and_drink  Online_boarding  \\\n",
       "0                       3              1               5                3   \n",
       "1                       3              3               1                3   \n",
       "2                       2              2               5                5   \n",
       "3                       5              5               2                2   \n",
       "4                       3              3               4                5   \n",
       "\n",
       "   Seat_comfort  Inflight_entertainment  On-board_service  Leg_room_service  \\\n",
       "0             5                       5                 4                 3   \n",
       "1             1                       1                 1                 5   \n",
       "2             5                       5                 4                 3   \n",
       "3             2                       2                 2                 5   \n",
       "4             5                       3                 3                 4   \n",
       "\n",
       "   Baggage_handling  Checkin_service  Inflight_service  Cleanliness  \\\n",
       "0                 4                4                 5            5   \n",
       "1                 3                1                 4            1   \n",
       "2                 4                4                 4            5   \n",
       "3                 3                1                 4            2   \n",
       "4                 4                3                 3            3   \n",
       "\n",
       "   Departure_Delay_in_Minutes  Arrival_Delay_in_Minutes  \\\n",
       "0                          25                 18.000000   \n",
       "1                           1                  6.000000   \n",
       "2                           0                  0.000000   \n",
       "3                          11                  9.000000   \n",
       "4                           0                  0.000000   \n",
       "\n",
       "              satisfaction  \n",
       "0  neutral or dissatisfied  \n",
       "1  neutral or dissatisfied  \n",
       "2                satisfied  \n",
       "3  neutral or dissatisfied  \n",
       "4                satisfied  "
      ]
     },
     "execution_count": 10,
     "metadata": {},
     "output_type": "execute_result"
    }
   ],
   "source": [
    "airline_passenger_satisfaction.drop(['SR', 'id'],axis=1,inplace=True)\n",
    "airline_passenger_satisfaction.head()"
   ]
  },
  {
   "cell_type": "code",
   "execution_count": 11,
   "id": "f7936e63",
   "metadata": {},
   "outputs": [],
   "source": [
    "Most_important_vars = ['Online_boarding', 'Inflight_wifi_service', 'Type_of_Travel', 'Inflight_entertainment',\\\n",
    "                       'Class_code', 'Customer_Type']"
   ]
  },
  {
   "cell_type": "markdown",
   "id": "cc5faef9",
   "metadata": {},
   "source": [
    "## Find and report the missing values"
   ]
  },
  {
   "cell_type": "code",
   "execution_count": 12,
   "id": "7c3ba43b",
   "metadata": {},
   "outputs": [
    {
     "name": "stdout",
     "output_type": "stream",
     "text": [
      "Your selected dataframe has 23 columns and 103904 Rows.\n",
      "There are 1 columns that have missing values.\n"
     ]
    },
    {
     "data": {
      "text/html": [
       "<div>\n",
       "<style scoped>\n",
       "    .dataframe tbody tr th:only-of-type {\n",
       "        vertical-align: middle;\n",
       "    }\n",
       "\n",
       "    .dataframe tbody tr th {\n",
       "        vertical-align: top;\n",
       "    }\n",
       "\n",
       "    .dataframe thead th {\n",
       "        text-align: right;\n",
       "    }\n",
       "</style>\n",
       "<table border=\"1\" class=\"dataframe\">\n",
       "  <thead>\n",
       "    <tr style=\"text-align: right;\">\n",
       "      <th></th>\n",
       "      <th>Zero Values</th>\n",
       "      <th>Missing Values</th>\n",
       "      <th>% of Total Values</th>\n",
       "      <th>Total Zero &amp; Missing Values</th>\n",
       "      <th>% Total Zero &amp; Missing Values</th>\n",
       "      <th>Data Type</th>\n",
       "    </tr>\n",
       "  </thead>\n",
       "  <tbody>\n",
       "    <tr>\n",
       "      <th>Arrival_Delay_in_Minutes</th>\n",
       "      <td>58159</td>\n",
       "      <td>310</td>\n",
       "      <td>0.300000</td>\n",
       "      <td>58469</td>\n",
       "      <td>56.300000</td>\n",
       "      <td>float64</td>\n",
       "    </tr>\n",
       "  </tbody>\n",
       "</table>\n",
       "</div>"
      ],
      "text/plain": [
       "                          Zero Values  Missing Values  % of Total Values  \\\n",
       "Arrival_Delay_in_Minutes        58159             310           0.300000   \n",
       "\n",
       "                          Total Zero & Missing Values  \\\n",
       "Arrival_Delay_in_Minutes                        58469   \n",
       "\n",
       "                          % Total Zero & Missing Values Data Type  \n",
       "Arrival_Delay_in_Minutes                      56.300000   float64  "
      ]
     },
     "execution_count": 12,
     "metadata": {},
     "output_type": "execute_result"
    }
   ],
   "source": [
    "missing_zero_values_table(airline_passenger_satisfaction)"
   ]
  },
  {
   "cell_type": "code",
   "execution_count": 13,
   "id": "9b2265bb",
   "metadata": {},
   "outputs": [],
   "source": [
    "df            =    airline_passenger_satisfaction.copy()"
   ]
  },
  {
   "cell_type": "code",
   "execution_count": 14,
   "id": "4417f5ca",
   "metadata": {},
   "outputs": [],
   "source": [
    "df['satisfaction'].replace('neutral or dissatisfied', 1, inplace = True)\n",
    "df['satisfaction'].replace('satisfied', 0, inplace = True)"
   ]
  },
  {
   "cell_type": "code",
   "execution_count": 15,
   "id": "7a16e1f4",
   "metadata": {},
   "outputs": [],
   "source": [
    "ord_enc                                             = OrdinalEncoder()"
   ]
  },
  {
   "cell_type": "code",
   "execution_count": 16,
   "id": "b49eadfb",
   "metadata": {},
   "outputs": [],
   "source": [
    "df['Gender_code']          = ord_enc.fit_transform(df[['Gender']])\n",
    "df['Customer_Type_code']   = ord_enc.fit_transform(df[['Customer_Type']])\n",
    "df['Type_of_Travel_code']  = ord_enc.fit_transform(df[['Type_of_Travel']])\n",
    "df['Class_code']           = ord_enc.fit_transform(df[['Class']])"
   ]
  },
  {
   "cell_type": "code",
   "execution_count": 17,
   "id": "847deb7e",
   "metadata": {},
   "outputs": [
    {
     "name": "stdout",
     "output_type": "stream",
     "text": [
      "(103904, 23)\n",
      "Index(['Age', 'Flight_Distance', 'Inflight_wifi_service',\n",
      "       'Departure/Arrival_time_convenient', 'Ease_of_Online_booking',\n",
      "       'Gate_location', 'Food_and_drink', 'Online_boarding', 'Seat_comfort',\n",
      "       'Inflight_entertainment', 'On-board_service', 'Leg_room_service',\n",
      "       'Baggage_handling', 'Checkin_service', 'Inflight_service',\n",
      "       'Cleanliness', 'Departure_Delay_in_Minutes', 'Arrival_Delay_in_Minutes',\n",
      "       'satisfaction', 'Gender_code', 'Customer_Type_code',\n",
      "       'Type_of_Travel_code', 'Class_code'],\n",
      "      dtype='object')\n"
     ]
    }
   ],
   "source": [
    "num_variables_df = df.select_dtypes(include = 'number')\n",
    "print(num_variables_df.shape)\n",
    "print(num_variables_df.columns)"
   ]
  },
  {
   "cell_type": "code",
   "execution_count": 18,
   "id": "a53a8c9b",
   "metadata": {},
   "outputs": [
    {
     "name": "stdout",
     "output_type": "stream",
     "text": [
      "[IterativeImputer] Completing matrix with shape (103904, 23)\n",
      "[IterativeImputer] Ending imputation round 1/10, elapsed time 1.94\n",
      "[IterativeImputer] Change: 431.9401728514561, scaled tolerance: 4.9830000000000005 \n",
      "[IterativeImputer] Ending imputation round 2/10, elapsed time 3.77\n",
      "[IterativeImputer] Change: 0.0, scaled tolerance: 4.9830000000000005 \n",
      "[IterativeImputer] Early stopping criterion reached.\n"
     ]
    }
   ],
   "source": [
    "lreg         =  LinearRegression()\n",
    "imp          =  IterativeImputer(estimator= lreg, missing_values = np.nan, max_iter = 10, verbose = 2,\\\n",
    "                                 imputation_order= 'roman',random_state = 0)\n",
    "X            =  imp.fit_transform(num_variables_df)"
   ]
  },
  {
   "cell_type": "code",
   "execution_count": 19,
   "id": "13c66b8a",
   "metadata": {},
   "outputs": [],
   "source": [
    "X_df           =    pd.DataFrame(X, columns = [ 'Age', 'Flight_Distance', 'Inflight_wifi_service',\n",
    "       'Departure/Arrival_time_convenient', 'Ease_of_Online_booking',\n",
    "       'Gate_location', 'Food_and_drink', 'Online_boarding', 'Seat_comfort',\n",
    "       'Inflight_entertainment', 'On-board_service', 'Leg_room_service',\n",
    "       'Baggage_handling', 'Checkin_service', 'Inflight_service',\n",
    "       'Cleanliness', 'Departure_Delay_in_Minutes', 'Arrival_Delay_in_Minutes',\n",
    "       'satisfaction', 'Gender_code', 'Customer_Type_code',\n",
    "       'Type_of_Travel_code', 'Class_code'])"
   ]
  },
  {
   "cell_type": "code",
   "execution_count": 20,
   "id": "30c979b2",
   "metadata": {},
   "outputs": [
    {
     "name": "stdout",
     "output_type": "stream",
     "text": [
      "Your selected dataframe has 23 columns and 103904 Rows.\n",
      "There are 0 columns that have missing values.\n"
     ]
    },
    {
     "data": {
      "text/html": [
       "<div>\n",
       "<style scoped>\n",
       "    .dataframe tbody tr th:only-of-type {\n",
       "        vertical-align: middle;\n",
       "    }\n",
       "\n",
       "    .dataframe tbody tr th {\n",
       "        vertical-align: top;\n",
       "    }\n",
       "\n",
       "    .dataframe thead th {\n",
       "        text-align: right;\n",
       "    }\n",
       "</style>\n",
       "<table border=\"1\" class=\"dataframe\">\n",
       "  <thead>\n",
       "    <tr style=\"text-align: right;\">\n",
       "      <th></th>\n",
       "      <th>Zero Values</th>\n",
       "      <th>Missing Values</th>\n",
       "      <th>% of Total Values</th>\n",
       "      <th>Total Zero &amp; Missing Values</th>\n",
       "      <th>% Total Zero &amp; Missing Values</th>\n",
       "      <th>Data Type</th>\n",
       "    </tr>\n",
       "  </thead>\n",
       "  <tbody>\n",
       "  </tbody>\n",
       "</table>\n",
       "</div>"
      ],
      "text/plain": [
       "Empty DataFrame\n",
       "Columns: [Zero Values, Missing Values, % of Total Values, Total Zero & Missing Values, % Total Zero & Missing Values, Data Type]\n",
       "Index: []"
      ]
     },
     "execution_count": 20,
     "metadata": {},
     "output_type": "execute_result"
    }
   ],
   "source": [
    "\n",
    "missing_zero_values_table(X_df)  "
   ]
  },
  {
   "cell_type": "code",
   "execution_count": 21,
   "id": "13c3cac9",
   "metadata": {},
   "outputs": [
    {
     "name": "stdout",
     "output_type": "stream",
     "text": [
      "<class 'pandas.core.frame.DataFrame'>\n",
      "RangeIndex: 103904 entries, 0 to 103903\n",
      "Data columns (total 23 columns):\n",
      " #   Column                             Non-Null Count   Dtype  \n",
      "---  ------                             --------------   -----  \n",
      " 0   Age                                103904 non-null  float64\n",
      " 1   Flight_Distance                    103904 non-null  float64\n",
      " 2   Inflight_wifi_service              103904 non-null  float64\n",
      " 3   Departure/Arrival_time_convenient  103904 non-null  float64\n",
      " 4   Ease_of_Online_booking             103904 non-null  float64\n",
      " 5   Gate_location                      103904 non-null  float64\n",
      " 6   Food_and_drink                     103904 non-null  float64\n",
      " 7   Online_boarding                    103904 non-null  float64\n",
      " 8   Seat_comfort                       103904 non-null  float64\n",
      " 9   Inflight_entertainment             103904 non-null  float64\n",
      " 10  On-board_service                   103904 non-null  float64\n",
      " 11  Leg_room_service                   103904 non-null  float64\n",
      " 12  Baggage_handling                   103904 non-null  float64\n",
      " 13  Checkin_service                    103904 non-null  float64\n",
      " 14  Inflight_service                   103904 non-null  float64\n",
      " 15  Cleanliness                        103904 non-null  float64\n",
      " 16  Departure_Delay_in_Minutes         103904 non-null  float64\n",
      " 17  Arrival_Delay_in_Minutes           103904 non-null  float64\n",
      " 18  satisfaction                       103904 non-null  float64\n",
      " 19  Gender_code                        103904 non-null  float64\n",
      " 20  Customer_Type_code                 103904 non-null  float64\n",
      " 21  Type_of_Travel_code                103904 non-null  float64\n",
      " 22  Class_code                         103904 non-null  float64\n",
      "dtypes: float64(23)\n",
      "memory usage: 18.2 MB\n"
     ]
    }
   ],
   "source": [
    "X_df.info()"
   ]
  },
  {
   "cell_type": "code",
   "execution_count": 22,
   "id": "792d0e4f",
   "metadata": {},
   "outputs": [
    {
     "data": {
      "text/html": [
       "<div>\n",
       "<style scoped>\n",
       "    .dataframe tbody tr th:only-of-type {\n",
       "        vertical-align: middle;\n",
       "    }\n",
       "\n",
       "    .dataframe tbody tr th {\n",
       "        vertical-align: top;\n",
       "    }\n",
       "\n",
       "    .dataframe thead th {\n",
       "        text-align: right;\n",
       "    }\n",
       "</style>\n",
       "<table border=\"1\" class=\"dataframe\">\n",
       "  <thead>\n",
       "    <tr style=\"text-align: right;\">\n",
       "      <th></th>\n",
       "      <th>0</th>\n",
       "      <th>1</th>\n",
       "      <th>2</th>\n",
       "      <th>3</th>\n",
       "      <th>4</th>\n",
       "    </tr>\n",
       "  </thead>\n",
       "  <tbody>\n",
       "    <tr>\n",
       "      <th>Age</th>\n",
       "      <td>13.000000</td>\n",
       "      <td>25.000000</td>\n",
       "      <td>26.000000</td>\n",
       "      <td>25.000000</td>\n",
       "      <td>61.000000</td>\n",
       "    </tr>\n",
       "    <tr>\n",
       "      <th>Flight_Distance</th>\n",
       "      <td>460.000000</td>\n",
       "      <td>235.000000</td>\n",
       "      <td>1142.000000</td>\n",
       "      <td>562.000000</td>\n",
       "      <td>214.000000</td>\n",
       "    </tr>\n",
       "    <tr>\n",
       "      <th>Inflight_wifi_service</th>\n",
       "      <td>3.000000</td>\n",
       "      <td>3.000000</td>\n",
       "      <td>2.000000</td>\n",
       "      <td>2.000000</td>\n",
       "      <td>3.000000</td>\n",
       "    </tr>\n",
       "    <tr>\n",
       "      <th>Departure/Arrival_time_convenient</th>\n",
       "      <td>4.000000</td>\n",
       "      <td>2.000000</td>\n",
       "      <td>2.000000</td>\n",
       "      <td>5.000000</td>\n",
       "      <td>3.000000</td>\n",
       "    </tr>\n",
       "    <tr>\n",
       "      <th>Ease_of_Online_booking</th>\n",
       "      <td>3.000000</td>\n",
       "      <td>3.000000</td>\n",
       "      <td>2.000000</td>\n",
       "      <td>5.000000</td>\n",
       "      <td>3.000000</td>\n",
       "    </tr>\n",
       "    <tr>\n",
       "      <th>Gate_location</th>\n",
       "      <td>1.000000</td>\n",
       "      <td>3.000000</td>\n",
       "      <td>2.000000</td>\n",
       "      <td>5.000000</td>\n",
       "      <td>3.000000</td>\n",
       "    </tr>\n",
       "    <tr>\n",
       "      <th>Food_and_drink</th>\n",
       "      <td>5.000000</td>\n",
       "      <td>1.000000</td>\n",
       "      <td>5.000000</td>\n",
       "      <td>2.000000</td>\n",
       "      <td>4.000000</td>\n",
       "    </tr>\n",
       "    <tr>\n",
       "      <th>Online_boarding</th>\n",
       "      <td>3.000000</td>\n",
       "      <td>3.000000</td>\n",
       "      <td>5.000000</td>\n",
       "      <td>2.000000</td>\n",
       "      <td>5.000000</td>\n",
       "    </tr>\n",
       "    <tr>\n",
       "      <th>Seat_comfort</th>\n",
       "      <td>5.000000</td>\n",
       "      <td>1.000000</td>\n",
       "      <td>5.000000</td>\n",
       "      <td>2.000000</td>\n",
       "      <td>5.000000</td>\n",
       "    </tr>\n",
       "    <tr>\n",
       "      <th>Inflight_entertainment</th>\n",
       "      <td>5.000000</td>\n",
       "      <td>1.000000</td>\n",
       "      <td>5.000000</td>\n",
       "      <td>2.000000</td>\n",
       "      <td>3.000000</td>\n",
       "    </tr>\n",
       "    <tr>\n",
       "      <th>On-board_service</th>\n",
       "      <td>4.000000</td>\n",
       "      <td>1.000000</td>\n",
       "      <td>4.000000</td>\n",
       "      <td>2.000000</td>\n",
       "      <td>3.000000</td>\n",
       "    </tr>\n",
       "    <tr>\n",
       "      <th>Leg_room_service</th>\n",
       "      <td>3.000000</td>\n",
       "      <td>5.000000</td>\n",
       "      <td>3.000000</td>\n",
       "      <td>5.000000</td>\n",
       "      <td>4.000000</td>\n",
       "    </tr>\n",
       "    <tr>\n",
       "      <th>Baggage_handling</th>\n",
       "      <td>4.000000</td>\n",
       "      <td>3.000000</td>\n",
       "      <td>4.000000</td>\n",
       "      <td>3.000000</td>\n",
       "      <td>4.000000</td>\n",
       "    </tr>\n",
       "    <tr>\n",
       "      <th>Checkin_service</th>\n",
       "      <td>4.000000</td>\n",
       "      <td>1.000000</td>\n",
       "      <td>4.000000</td>\n",
       "      <td>1.000000</td>\n",
       "      <td>3.000000</td>\n",
       "    </tr>\n",
       "    <tr>\n",
       "      <th>Inflight_service</th>\n",
       "      <td>5.000000</td>\n",
       "      <td>4.000000</td>\n",
       "      <td>4.000000</td>\n",
       "      <td>4.000000</td>\n",
       "      <td>3.000000</td>\n",
       "    </tr>\n",
       "    <tr>\n",
       "      <th>Cleanliness</th>\n",
       "      <td>5.000000</td>\n",
       "      <td>1.000000</td>\n",
       "      <td>5.000000</td>\n",
       "      <td>2.000000</td>\n",
       "      <td>3.000000</td>\n",
       "    </tr>\n",
       "    <tr>\n",
       "      <th>Departure_Delay_in_Minutes</th>\n",
       "      <td>25.000000</td>\n",
       "      <td>1.000000</td>\n",
       "      <td>0.000000</td>\n",
       "      <td>11.000000</td>\n",
       "      <td>0.000000</td>\n",
       "    </tr>\n",
       "    <tr>\n",
       "      <th>Arrival_Delay_in_Minutes</th>\n",
       "      <td>18.000000</td>\n",
       "      <td>6.000000</td>\n",
       "      <td>0.000000</td>\n",
       "      <td>9.000000</td>\n",
       "      <td>0.000000</td>\n",
       "    </tr>\n",
       "    <tr>\n",
       "      <th>satisfaction</th>\n",
       "      <td>1.000000</td>\n",
       "      <td>1.000000</td>\n",
       "      <td>0.000000</td>\n",
       "      <td>1.000000</td>\n",
       "      <td>0.000000</td>\n",
       "    </tr>\n",
       "    <tr>\n",
       "      <th>Gender_code</th>\n",
       "      <td>1.000000</td>\n",
       "      <td>1.000000</td>\n",
       "      <td>0.000000</td>\n",
       "      <td>0.000000</td>\n",
       "      <td>1.000000</td>\n",
       "    </tr>\n",
       "    <tr>\n",
       "      <th>Customer_Type_code</th>\n",
       "      <td>0.000000</td>\n",
       "      <td>1.000000</td>\n",
       "      <td>0.000000</td>\n",
       "      <td>0.000000</td>\n",
       "      <td>0.000000</td>\n",
       "    </tr>\n",
       "    <tr>\n",
       "      <th>Type_of_Travel_code</th>\n",
       "      <td>1.000000</td>\n",
       "      <td>0.000000</td>\n",
       "      <td>0.000000</td>\n",
       "      <td>0.000000</td>\n",
       "      <td>0.000000</td>\n",
       "    </tr>\n",
       "    <tr>\n",
       "      <th>Class_code</th>\n",
       "      <td>2.000000</td>\n",
       "      <td>0.000000</td>\n",
       "      <td>0.000000</td>\n",
       "      <td>0.000000</td>\n",
       "      <td>0.000000</td>\n",
       "    </tr>\n",
       "  </tbody>\n",
       "</table>\n",
       "</div>"
      ],
      "text/plain": [
       "                                           0          1           2  \\\n",
       "Age                                13.000000  25.000000   26.000000   \n",
       "Flight_Distance                   460.000000 235.000000 1142.000000   \n",
       "Inflight_wifi_service               3.000000   3.000000    2.000000   \n",
       "Departure/Arrival_time_convenient   4.000000   2.000000    2.000000   \n",
       "Ease_of_Online_booking              3.000000   3.000000    2.000000   \n",
       "Gate_location                       1.000000   3.000000    2.000000   \n",
       "Food_and_drink                      5.000000   1.000000    5.000000   \n",
       "Online_boarding                     3.000000   3.000000    5.000000   \n",
       "Seat_comfort                        5.000000   1.000000    5.000000   \n",
       "Inflight_entertainment              5.000000   1.000000    5.000000   \n",
       "On-board_service                    4.000000   1.000000    4.000000   \n",
       "Leg_room_service                    3.000000   5.000000    3.000000   \n",
       "Baggage_handling                    4.000000   3.000000    4.000000   \n",
       "Checkin_service                     4.000000   1.000000    4.000000   \n",
       "Inflight_service                    5.000000   4.000000    4.000000   \n",
       "Cleanliness                         5.000000   1.000000    5.000000   \n",
       "Departure_Delay_in_Minutes         25.000000   1.000000    0.000000   \n",
       "Arrival_Delay_in_Minutes           18.000000   6.000000    0.000000   \n",
       "satisfaction                        1.000000   1.000000    0.000000   \n",
       "Gender_code                         1.000000   1.000000    0.000000   \n",
       "Customer_Type_code                  0.000000   1.000000    0.000000   \n",
       "Type_of_Travel_code                 1.000000   0.000000    0.000000   \n",
       "Class_code                          2.000000   0.000000    0.000000   \n",
       "\n",
       "                                           3          4  \n",
       "Age                                25.000000  61.000000  \n",
       "Flight_Distance                   562.000000 214.000000  \n",
       "Inflight_wifi_service               2.000000   3.000000  \n",
       "Departure/Arrival_time_convenient   5.000000   3.000000  \n",
       "Ease_of_Online_booking              5.000000   3.000000  \n",
       "Gate_location                       5.000000   3.000000  \n",
       "Food_and_drink                      2.000000   4.000000  \n",
       "Online_boarding                     2.000000   5.000000  \n",
       "Seat_comfort                        2.000000   5.000000  \n",
       "Inflight_entertainment              2.000000   3.000000  \n",
       "On-board_service                    2.000000   3.000000  \n",
       "Leg_room_service                    5.000000   4.000000  \n",
       "Baggage_handling                    3.000000   4.000000  \n",
       "Checkin_service                     1.000000   3.000000  \n",
       "Inflight_service                    4.000000   3.000000  \n",
       "Cleanliness                         2.000000   3.000000  \n",
       "Departure_Delay_in_Minutes         11.000000   0.000000  \n",
       "Arrival_Delay_in_Minutes            9.000000   0.000000  \n",
       "satisfaction                        1.000000   0.000000  \n",
       "Gender_code                         0.000000   1.000000  \n",
       "Customer_Type_code                  0.000000   0.000000  \n",
       "Type_of_Travel_code                 0.000000   0.000000  \n",
       "Class_code                          0.000000   0.000000  "
      ]
     },
     "execution_count": 22,
     "metadata": {},
     "output_type": "execute_result"
    }
   ],
   "source": [
    "X_df.head().T"
   ]
  },
  {
   "cell_type": "code",
   "execution_count": 23,
   "id": "1ef8c425",
   "metadata": {},
   "outputs": [
    {
     "name": "stdout",
     "output_type": "stream",
     "text": [
      "<class 'pandas.core.frame.DataFrame'>\n",
      "RangeIndex: 103904 entries, 0 to 103903\n",
      "Data columns (total 23 columns):\n",
      " #   Column                             Non-Null Count   Dtype  \n",
      "---  ------                             --------------   -----  \n",
      " 0   Age                                103904 non-null  int32  \n",
      " 1   Flight_Distance                    103904 non-null  int32  \n",
      " 2   Inflight_wifi_service              103904 non-null  int32  \n",
      " 3   Departure/Arrival_time_convenient  103904 non-null  int32  \n",
      " 4   Ease_of_Online_booking             103904 non-null  int32  \n",
      " 5   Gate_location                      103904 non-null  int32  \n",
      " 6   Food_and_drink                     103904 non-null  int32  \n",
      " 7   Online_boarding                    103904 non-null  int32  \n",
      " 8   Seat_comfort                       103904 non-null  int32  \n",
      " 9   Inflight_entertainment             103904 non-null  int32  \n",
      " 10  On-board_service                   103904 non-null  int32  \n",
      " 11  Leg_room_service                   103904 non-null  int32  \n",
      " 12  Baggage_handling                   103904 non-null  int32  \n",
      " 13  Checkin_service                    103904 non-null  int32  \n",
      " 14  Inflight_service                   103904 non-null  int32  \n",
      " 15  Cleanliness                        103904 non-null  int32  \n",
      " 16  Departure_Delay_in_Minutes         103904 non-null  float64\n",
      " 17  Arrival_Delay_in_Minutes           103904 non-null  float64\n",
      " 18  satisfaction                       103904 non-null  int32  \n",
      " 19  Gender_code                        103904 non-null  int32  \n",
      " 20  Customer_Type_code                 103904 non-null  int32  \n",
      " 21  Type_of_Travel_code                103904 non-null  int32  \n",
      " 22  Class_code                         103904 non-null  int32  \n",
      "dtypes: float64(2), int32(21)\n",
      "memory usage: 9.9 MB\n"
     ]
    }
   ],
   "source": [
    "int_type_cols = [ 'Age', 'Flight_Distance', 'Inflight_wifi_service',\n",
    "       'Departure/Arrival_time_convenient', 'Ease_of_Online_booking',\n",
    "       'Gate_location', 'Food_and_drink', 'Online_boarding', 'Seat_comfort',\n",
    "       'Inflight_entertainment', 'On-board_service', 'Leg_room_service',\n",
    "       'Baggage_handling', 'Checkin_service', 'Inflight_service',\n",
    "       'Cleanliness', 'satisfaction', 'Gender_code', 'Customer_Type_code',\n",
    "       'Type_of_Travel_code', 'Class_code']\n",
    "X_df[int_type_cols] = X_df[int_type_cols].astype(int)\n",
    "X_df.info()"
   ]
  },
  {
   "cell_type": "code",
   "execution_count": 24,
   "id": "6284ab8d",
   "metadata": {},
   "outputs": [
    {
     "data": {
      "text/plain": [
       "<AxesSubplot:xlabel='index', ylabel='satisfaction'>"
      ]
     },
     "execution_count": 24,
     "metadata": {},
     "output_type": "execute_result"
    },
    {
     "data": {
      "image/png": "[encoded data removed]",
      "text/plain": [
       "<Figure size 720x720 with 1 Axes>"
      ]
     },
     "metadata": {},
     "output_type": "display_data"
    }
   ],
   "source": [
    "vc  =  airline_passenger_satisfaction['satisfaction'].value_counts().reset_index()\n",
    "sns.barplot(x = 'index', y = 'satisfaction', data = vc,  palette = 'cividis')"
   ]
  },
  {
   "cell_type": "markdown",
   "id": "ce445dfb",
   "metadata": {},
   "source": [
    "## Observation"
   ]
  },
  {
   "cell_type": "markdown",
   "id": "ab55718b",
   "metadata": {},
   "source": [
    "#### Dataset is not perfectly balanced. We need to use Precision, Recall of the minority class apart from AUROC as performance measures"
   ]
  },
  {
   "cell_type": "markdown",
   "id": "4a0c61c0",
   "metadata": {},
   "source": [
    "### Prepare data for EDA"
   ]
  },
  {
   "cell_type": "markdown",
   "id": "4ec3b61b",
   "metadata": {},
   "source": [
    "#### Replace imputed values for the column, satisfaction before doing EDA"
   ]
  },
  {
   "cell_type": "code",
   "execution_count": 25,
   "id": "c9bd44e2",
   "metadata": {},
   "outputs": [],
   "source": [
    "X_df['satisfaction'].replace(1, 'neutral or dissatisfied', inplace = True)\n",
    "X_df['satisfaction'].replace(0, 'satisfied', inplace = True)"
   ]
  },
  {
   "cell_type": "code",
   "execution_count": 26,
   "id": "81bd9aff",
   "metadata": {},
   "outputs": [],
   "source": [
    "airline_passenger_satisfaction['satisfaction']  =   X_df['satisfaction']"
   ]
  },
  {
   "cell_type": "markdown",
   "id": "ea637411",
   "metadata": {},
   "source": [
    "## 3) EDA"
   ]
  },
  {
   "cell_type": "markdown",
   "id": "f2ff70b7",
   "metadata": {},
   "source": [
    "### 3.1 Satisfaction of Airline passengers Vs Online_boarding, Customer_type & Class"
   ]
  },
  {
   "cell_type": "code",
   "execution_count": 67,
   "id": "05d93b0f",
   "metadata": {},
   "outputs": [
    {
     "name": "stdout",
     "output_type": "stream",
     "text": [
      " Online_Boarding, Customer_type_code Vs Satisfaction of Airline Passengers\n"
     ]
    },
    {
     "data": {
      "image/png": "[encoded data removed]",
      "text/plain": [
       "<Figure size 847.225x360 with 2 Axes>"
      ]
     },
     "metadata": {},
     "output_type": "display_data"
    }
   ],
   "source": [
    "titlex = ' Online_Boarding, Customer_type_code Vs Satisfaction of Airline Passengers'\n",
    "sns.catplot(data = airline_passenger_satisfaction,  x = 'Online_boarding', col = 'satisfaction',\\\n",
    "            hue = 'Customer_Type', kind = 'count')\n",
    "print(titlex)\n",
    "plt.xlabel('satisfaction')\n",
    "plt.show()"
   ]
  },
  {
   "cell_type": "markdown",
   "id": "3db2afcd",
   "metadata": {},
   "source": [
    "### Inference"
   ]
  },
  {
   "cell_type": "raw",
   "id": "a3173b81",
   "metadata": {},
   "source": [
    "1) From the above count plot graph we are plotting Online_boarding,customer_type_code vs satisfaction variables\n",
    "2) Here Online_Boarding is the predictor  variable and satisfaction column is the target variable\n",
    "3) The satisfaction ratings are rated from 0 to 5 where 0 is dissatisfied or neutral and 5 is satisfied\n",
    "4) from the graph we can infer that disloyal customers are highly disatisfied and neutral whereas the loyal customers are highly satisfied"
   ]
  },
  {
   "cell_type": "markdown",
   "id": "1216b73f",
   "metadata": {},
   "source": [
    "### 3.2 Satisfaction of Airline passengers Vs Inflight_wifi_service, Customer_type & Class"
   ]
  },
  {
   "cell_type": "code",
   "execution_count": 68,
   "id": "50fd19b0",
   "metadata": {},
   "outputs": [
    {
     "name": "stdout",
     "output_type": "stream",
     "text": [
      "Inflight_wifi_service , Customer_type Vs Satisfaction of Airline Passengers\n"
     ]
    },
    {
     "data": {
      "image/png": "[encoded data removed]",
      "text/plain": [
       "<Figure size 847.225x360 with 2 Axes>"
      ]
     },
     "metadata": {},
     "output_type": "display_data"
    }
   ],
   "source": [
    "titlex = 'Inflight_wifi_service , Customer_type Vs Satisfaction of Airline Passengers'\n",
    "sns.catplot(data = airline_passenger_satisfaction,  x = 'Inflight_wifi_service', col = 'satisfaction',\\\n",
    "            hue = 'Customer_Type', kind = 'count')\n",
    "print(titlex)\n",
    "plt.xlabel('satisfaction')\n",
    "plt.show()"
   ]
  },
  {
   "cell_type": "markdown",
   "id": "fe480bd0",
   "metadata": {},
   "source": [
    "### Inference"
   ]
  },
  {
   "cell_type": "raw",
   "id": "ff4d2dce",
   "metadata": {},
   "source": [
    "1) From the above count plot graph we are plotting Inflight_wifi_service,customer_type & class vs satisfaction variables\n",
    "2) Here Inflight_wifi_service is the predictor  variable and satisfaction column is the target variable\n",
    "3) The satisfaction ratings are rated from 0 to 5 where 0 is dissatisfied or neutral and 5 is satisfied\n",
    "4) from the graph we can infer that loyal customers are highly disatisfied or neutral in comparision with the disloyal customers"
   ]
  },
  {
   "cell_type": "markdown",
   "id": "45bd0349",
   "metadata": {},
   "source": [
    "\n",
    "### 3.3 Satisfaction of Airline passengers Vs Type_of_Travel, Customer_type & Class"
   ]
  },
  {
   "cell_type": "code",
   "execution_count": 69,
   "id": "04eb8b7a",
   "metadata": {},
   "outputs": [
    {
     "name": "stdout",
     "output_type": "stream",
     "text": [
      "Type_of_Travel , Customer_type Vs Satisfaction of Airline Passengers\n"
     ]
    },
    {
     "data": {
      "image/png": "[encoded data removed]",
      "text/plain": [
       "<Figure size 847.225x360 with 2 Axes>"
      ]
     },
     "metadata": {},
     "output_type": "display_data"
    }
   ],
   "source": [
    "titlex = 'Type_of_Travel , Customer_type Vs Satisfaction of Airline Passengers'\n",
    "sns.catplot(data = airline_passenger_satisfaction,  x = 'Type_of_Travel', col = 'satisfaction',\\\n",
    "            hue = 'Customer_Type', kind = 'count')\n",
    "print(titlex)\n",
    "plt.xlabel('satisfaction')\n",
    "plt.show()"
   ]
  },
  {
   "cell_type": "markdown",
   "id": "be504586",
   "metadata": {},
   "source": [
    "###  Inference"
   ]
  },
  {
   "cell_type": "raw",
   "id": "71cab8d7",
   "metadata": {},
   "source": [
    "1) From the above count plot graph we are plotting Inflight_wifi_service,customer_type & class vs satisfaction variables\n",
    "2) Here Type_of_Travel is the predictor  variable and satisfaction column is the target variable\n",
    "3) on the LHS side graph we can see that the loyal customers who are travelling for personal purpose are highly dissatisfied or neutral when compared to loyal and disloyal customers doing businness travel\n",
    "4) on the RHS side graph we can see that customers who are travelling for bussiness purpose are highly satisfied and are loyal customers and there are only very little amount of disloyal customers and customers who are travelling for personal purpose"
   ]
  },
  {
   "cell_type": "markdown",
   "id": "8dafe882",
   "metadata": {},
   "source": [
    "### 3.4 Satisfaction of Airline passengers Vs Inflight_entertainment, Customer_type & Class"
   ]
  },
  {
   "cell_type": "code",
   "execution_count": 70,
   "id": "89470fb0",
   "metadata": {},
   "outputs": [
    {
     "name": "stdout",
     "output_type": "stream",
     "text": [
      "Inflight_entertainment, Customer_type Vs Satisfaction of Airline Passengers\n"
     ]
    },
    {
     "data": {
      "image/png": "[encoded data removed]",
      "text/plain": [
       "<Figure size 847.225x360 with 2 Axes>"
      ]
     },
     "metadata": {},
     "output_type": "display_data"
    }
   ],
   "source": [
    "titlex = 'Inflight_entertainment, Customer_type Vs Satisfaction of Airline Passengers'\n",
    "sns.catplot(data = airline_passenger_satisfaction,  x = 'Inflight_entertainment', col = 'satisfaction',\\\n",
    "            hue = 'Customer_Type', kind = 'count')\n",
    "print(titlex)\n",
    "plt.xlabel('satisfaction')\n",
    "plt.show()"
   ]
  },
  {
   "cell_type": "markdown",
   "id": "2a900064",
   "metadata": {},
   "source": [
    "### Inference"
   ]
  },
  {
   "cell_type": "raw",
   "id": "e0a02678",
   "metadata": {},
   "source": [
    "1) From the above count plot graph we are plotting Inflight_entertainment,customer_type & class vs satisfaction variables\n",
    "2) Here Inflight_entertainment,customer_type & class is the predictor  variable and satisfaction column is the target variable\n",
    "3) on the LHS side graph we can infer that loyal customers are more dissatisfied or neutral when compared to disloyal customers\n",
    "4) on the RHS side graph we can infer that loyal customers are more satisfied when compared to disloyal customers"
   ]
  },
  {
   "cell_type": "markdown",
   "id": "22cdbf4e",
   "metadata": {},
   "source": [
    "### 3.5 Satisfaction of Airline passengers Vs Age, Gender & Class"
   ]
  },
  {
   "cell_type": "code",
   "execution_count": 31,
   "id": "757b4448",
   "metadata": {},
   "outputs": [
    {
     "name": "stdout",
     "output_type": "stream",
     "text": [
      "Age, Gender Vs Satisfaction of Airline Passengers\n"
     ]
    },
    {
     "data": {
      "image/png": "[encoded data removed]",
      "text/plain": [
       "<Figure size 1156.35x360 with 3 Axes>"
      ]
     },
     "metadata": {},
     "output_type": "display_data"
    }
   ],
   "source": [
    "titlex = 'Age, Gender Vs Satisfaction of Airline Passengers'\n",
    "sns.catplot(data = airline_passenger_satisfaction, x = 'satisfaction', y = 'Age', col = 'Class', hue = 'Gender', kind = 'box')\n",
    "print(titlex)\n",
    "plt.xlabel('Satisfaction')\n",
    "plt.ylabel('Age')\n",
    "plt.show()"
   ]
  },
  {
   "cell_type": "markdown",
   "id": "b229ed55",
   "metadata": {},
   "source": [
    "### Inference"
   ]
  },
  {
   "cell_type": "raw",
   "id": "87cf39b3",
   "metadata": {},
   "source": [
    "1) The above boxplot is plotted on predictor variables Age,Gender vs the target variable Satisfaction\n",
    "\n",
    "2) The graph also represents the different classes of travel Economy,Economy plus and Bussiness and the gender of the passengers with their age\n",
    "\n",
    "3) on the economy plus class the number of passengers in both gender who are neutral or dissatisfied is high when compared to the satisfied passengers . The median lies between the age group between 35 to 40 in the case of neutral or dissatisfied passengers and the median for the satisfied passengers lies between the age group roughly around 38 - 40\n",
    "\n",
    "4) on the bussiness class the number of passengers in both gender who are neutral or dissatisfied is high when compared to the satisfied passengers . The median lies between the age group between 35 to 40 in the case of neutral or dissatisfied passengers\n",
    "and the median for the satisfied passengers lies between the age group 40 - 50 . There are outliers in both the netural or dissatisfied and satisfied customers \n",
    "\n",
    "5)on the economy class the number of passengers in both gender who are neutral or dissatisfied is minimal when compared to the satisfied passengers . The median lies between the age group between 35 to 40 in the case of neutral or dissatisfied passengers and the median for the satisfied passengers lies between the age group roughly around 38 - 40\n",
    "\n"
   ]
  },
  {
   "cell_type": "markdown",
   "id": "037c668c",
   "metadata": {},
   "source": [
    "### 3.6 Satisfaction of Airline passengers Vs Flight Distance, Gender & Class"
   ]
  },
  {
   "cell_type": "code",
   "execution_count": 32,
   "id": "9bddb245",
   "metadata": {},
   "outputs": [
    {
     "name": "stdout",
     "output_type": "stream",
     "text": [
      "Flight_Distance, Class Vs Satisfaction of Airline Passengers\n"
     ]
    },
    {
     "data": {
      "image/png": "[encoded data removed]",
      "text/plain": [
       "<Figure size 803.975x360 with 2 Axes>"
      ]
     },
     "metadata": {},
     "output_type": "display_data"
    }
   ],
   "source": [
    "sns.catplot(data = airline_passenger_satisfaction, x = 'satisfaction', y = 'Flight_Distance', col = 'Gender',\\\n",
    "            hue = 'Class', kind = 'box')\n",
    "titlex =  'Flight_Distance, Class Vs Satisfaction of Airline Passengers'\n",
    "print(titlex)\n",
    "plt.xlabel('Satisfaction')\n",
    "plt.ylabel('Flight_Distance')\n",
    "plt.show()"
   ]
  },
  {
   "cell_type": "markdown",
   "id": "62d9780c",
   "metadata": {},
   "source": [
    "### Inference"
   ]
  },
  {
   "cell_type": "raw",
   "id": "6632c62f",
   "metadata": {},
   "source": [
    "1) The above boxplot is plotted on predictor variables Flight_distance,class vs the target variable Satisfaction here the passengers are also classifiedd based on their gender \n",
    "\n",
    "2) For the Males there is no difference or slight difference in the Economy plus and Economy class and the median for flight distance lies between 0 to 1000  and there are outliers as well. Whereas in the bussiness class there is a significant level of difference the flight distance median for neutral or dissatisfied passengers is in between 1000 to 2000  whereas for the satisfied the flight distance median is between 1700 to 2000 there are outliers in the neutral or dissatisfied variables\n",
    "\n",
    "3)For the Females there is no difference or slight difference in the Economy plus and Economy class and the median for flight distance lies between 0 to 1000  and there are outliers as well. Whereas in the bussiness class there is a significant level of difference the flight distance median for neutral or dissatisfied passengers is in between 1000 to 2000  whereas for the satisfied the flight distance median is between 1700 to 2000 there are outliers in the neutral or dissatisfied variables\n"
   ]
  },
  {
   "cell_type": "markdown",
   "id": "ef686b4f",
   "metadata": {},
   "source": [
    "### 3.7 Satisfaction of Airline passengers Vs Flight Distance, Type_of_Travel & Gender"
   ]
  },
  {
   "cell_type": "code",
   "execution_count": 33,
   "id": "ff36f4b2",
   "metadata": {},
   "outputs": [
    {
     "name": "stdout",
     "output_type": "stream",
     "text": [
      "Flight_Distance, Type_of_Travel Vs Satisfaction of Airline Passengers\n"
     ]
    },
    {
     "data": {
      "image/png": "[encoded data removed]",
      "text/plain": [
       "<Figure size 836.225x360 with 2 Axes>"
      ]
     },
     "metadata": {},
     "output_type": "display_data"
    }
   ],
   "source": [
    "titlex  =  'Flight_Distance, Type_of_Travel Vs Satisfaction of Airline Passengers'\n",
    "sns.catplot(data = airline_passenger_satisfaction, x = 'satisfaction', y = 'Flight_Distance', col = 'Gender',\\\n",
    "            hue = 'Type_of_Travel', kind = 'box')\n",
    "print(titlex)\n",
    "plt.xlabel('Satisfaction')\n",
    "plt.ylabel('Flight_Distance')\n",
    "plt.show()"
   ]
  },
  {
   "cell_type": "markdown",
   "id": "95924844",
   "metadata": {},
   "source": [
    "### Inference"
   ]
  },
  {
   "cell_type": "raw",
   "id": "d8c82054",
   "metadata": {},
   "source": [
    "1) The above box plot for the prdictor variables flight_distance,Type_of_Travel vs the target variable satisfaction here the classifiction is soley based on the type_of_travel here the gender is differentiated as male and female\n",
    "\n",
    "2) For the Male Gender the difference between the neutral or dissatisfied and satisfied is high the median for flight distance for the variable neutral or dissatisfied is between 0 -1000 roughly around 1500 for the personal travel and for the bussiness travel is roughly between flight distance 1500 to 2000 and there are ouliers as well . For the satisfied variable the flight distance median lies between 0 to 1000 roughly around 1500 for the personal travel  and the flight disatnce median for the bussiness travel lies between 1000 to 2000 roughly near 1500. There are outliers detected in the personal travel for the satisfaction variable\n",
    "\n",
    "3)For the Female Gender the difference between the neutral or dissatisfied and satisfied is high the median for flight distance for the variable neutral or dissatisfied is between 0 -1000 roughly around 1500 for the personal travel and for the bussiness travel is roughly between flight distance 1500 to 2000 and there are ouliers as well . For the satisfied variable the flight distance median lies between 0 to 1000 roughly around 1500 for the personal travel  and the flight disatnce median for the bussiness travel lies between 1000 to 2000 roughly near 1500. There are outliers detected in the personal travel for the satisfaction variable"
   ]
  },
  {
   "cell_type": "markdown",
   "id": "0a4fd04a",
   "metadata": {},
   "source": [
    "### 3.8 Satisfaction of Airline passengers Vs Departure_Delay_in_Minutes, Type_of_Travel & Gender"
   ]
  },
  {
   "cell_type": "code",
   "execution_count": 34,
   "id": "a73b9f13",
   "metadata": {},
   "outputs": [
    {
     "name": "stdout",
     "output_type": "stream",
     "text": [
      "\n",
      "Departure_Delay_in_Minutes, Type_of_Travel Vs Satisfaction of Airline Passengers\n",
      "\n"
     ]
    },
    {
     "data": {
      "image/png": "[encoded data removed]",
      "text/plain": [
       "<Figure size 836.225x360 with 2 Axes>"
      ]
     },
     "metadata": {},
     "output_type": "display_data"
    }
   ],
   "source": [
    "titlex  =  '\\nDeparture_Delay_in_Minutes, Type_of_Travel Vs Satisfaction of Airline Passengers\\n'\n",
    "sns.catplot(data = airline_passenger_satisfaction, x = 'satisfaction', y = 'Departure_Delay_in_Minutes',\\\n",
    "            col = 'Gender', hue = 'Type_of_Travel', kind = 'box')\n",
    "print(titlex)\n",
    "plt.xlabel('Satisfaction')\n",
    "plt.ylabel('Departure_Delay_in_Minutes')\n",
    "plt.show()"
   ]
  },
  {
   "cell_type": "markdown",
   "id": "0bf8febb",
   "metadata": {},
   "source": [
    "### Inference"
   ]
  },
  {
   "cell_type": "raw",
   "id": "4c26e154",
   "metadata": {},
   "source": [
    "1) The above box plot for the prdictor variables Depature_Dealy_in_Minutes,Type_of_Travel vs the target variable satisfaction here the classifiction is soley based on the type_of_travel here the gender is differentiated as male and female\n",
    "\n",
    "2) In the Male gender the number of neutral or dissatisfeid passengers are high in both the prsonal Travel and Bussiness Travel when compared to the satisfied passengers the Depature_Dealy_in_Minutes values for the neutral and dissatisfied lies between 0 to 200 approximately below 100 the median should be around 50 whereas in the satisfied variable there are less number of passengers who are satisfied and the Depature_Dealy_in_Minutes values for satisfied variable lies between 0 to 200 approximately and the median for personal travel is less than 50 and the median  should be around 50 for the bussiness travel. also the values are scattered and there are outliers as well\n",
    "\n",
    "3)In the Female gender the number of neutral or dissatisfeid passengers are high in both the prsonal Travel and Bussiness Travel when compared to the satisfied passengers the Depature_Dealy_in_Minutes values for the neutral and dissatisfied lies between 0 to 200 approximately below 100 the median should be around 50 whereas in the satisfied variable there are less number of passengers who are satisfied and the Depature_Dealy_in_Minutes values for satisfied variable lies between 0 to 200 approximately and the median for personal travel is less than 50 and the median  should be around 50 for the bussiness travel. also the values are scattered and there are outliers as well"
   ]
  },
  {
   "cell_type": "markdown",
   "id": "f96892fc",
   "metadata": {},
   "source": [
    "### 3.9 Satisfaction of Airline passengers Vs Arrival_Delay_in_Minutes, Type_of_Travel & Gender"
   ]
  },
  {
   "cell_type": "code",
   "execution_count": 35,
   "id": "e9047288",
   "metadata": {},
   "outputs": [
    {
     "name": "stdout",
     "output_type": "stream",
     "text": [
      "\n",
      "Arrival_Delay_in_Minutes, Type_of_Travel Vs Satisfaction of Airline Passengers\n",
      "\n"
     ]
    },
    {
     "data": {
      "image/png": "[encoded data removed]",
      "text/plain": [
       "<Figure size 836.225x360 with 2 Axes>"
      ]
     },
     "metadata": {},
     "output_type": "display_data"
    }
   ],
   "source": [
    "titlex  =  '\\nArrival_Delay_in_Minutes, Type_of_Travel Vs Satisfaction of Airline Passengers\\n'\n",
    "sns.catplot(data = airline_passenger_satisfaction, x = 'satisfaction', y = 'Arrival_Delay_in_Minutes',\\\n",
    "            col = 'Gender', hue = 'Type_of_Travel', kind = 'box')\n",
    "print(titlex)\n",
    "plt.xlabel('Satisfaction')\n",
    "plt.ylabel('Arrival_Delay_in_Minutes')\n",
    "plt.show()"
   ]
  },
  {
   "cell_type": "markdown",
   "id": "9f544aeb",
   "metadata": {},
   "source": [
    "### Inference"
   ]
  },
  {
   "cell_type": "raw",
   "id": "060d4e6c",
   "metadata": {},
   "source": [
    "1) The above box plot for the prdictor variables Arrival_Dealy_in_Minutes,Type_of_Travel vs the target variable satisfaction here the classifiction is soley based on the type_of_travel here the gender is differentiated as male and female\n",
    "\n",
    "2) In the Male gender the number of neutral or dissatisfeid passengers are high in both the prsonal Travel and Bussiness Travel when compared to the satisfied passengers the Arrival_Dealy_in_Minutes values for the neutral and dissatisfied lies between 0 to 200 approximately below 100 the median should be around 50 whereas in the satisfied variable there are less number of passengers who are satisfied and the Arrival_Dealy_in_Minutes values for satisfied variable lies between 0 to 200 approximately and the median for personal travel is less than 50 and the median  should be around 50 for the bussiness travel. also the values are scattered and there are outliers as well\n",
    "\n",
    "3)In the Female gender the number of neutral or dissatisfeid passengers are high in both the prsonal Travel and Bussiness Travel when compared to the satisfied passengers the Arrival_Dealy_in_Minutes values for the neutral and dissatisfied lies between 0 to 200 approximately below 100 the median should be around 50 whereas in the satisfied variable there are less number of passengers who are satisfied and the Arrival_Dealy_in_Minutes values for satisfied variable lies between 0 to 200 approximately and the median for personal travel is less than 50 and the median  should be around 50 for the bussiness travel. also the values are scattered and there are outliers as well"
   ]
  },
  {
   "cell_type": "markdown",
   "id": "2c1568a8",
   "metadata": {},
   "source": [
    "# Base Model Building"
   ]
  },
  {
   "cell_type": "markdown",
   "id": "3bb7c2cd",
   "metadata": {},
   "source": [
    "## To print the elapsed time, first get the start time"
   ]
  },
  {
   "cell_type": "code",
   "execution_count": 36,
   "id": "0fd0436f",
   "metadata": {},
   "outputs": [],
   "source": [
    "import time\n",
    "from datetime import timedelta\n",
    "\n",
    "start_time = time.time()"
   ]
  },
  {
   "cell_type": "markdown",
   "id": "cae07bc1",
   "metadata": {},
   "source": [
    "! pip install pydotplus"
   ]
  },
  {
   "cell_type": "markdown",
   "id": "fc332104",
   "metadata": {},
   "source": [
    "! pip install pydot"
   ]
  },
  {
   "cell_type": "markdown",
   "id": "d42ee2cd",
   "metadata": {},
   "source": [
    "! pip install graphviz"
   ]
  },
  {
   "cell_type": "code",
   "execution_count": 40,
   "id": "29301968",
   "metadata": {},
   "outputs": [],
   "source": [
    "import pandas                         as     pd\n",
    "import numpy                          as     np\n",
    "import seaborn                        as     sns\n",
    "import matplotlib.pyplot              as     plt\n",
    "import statsmodels.api                as     sm\n",
    "import sys, os, six\n",
    "\n",
    "from   sklearn                        import  metrics \n",
    "from   sklearn.metrics                import  classification_report\n",
    "from   sklearn.metrics                import  confusion_matrix\n",
    "from   sklearn.metrics                import  roc_curve, auc\n",
    "from   sklearn.model_selection        import  train_test_split, cross_val_score\n",
    " ##!pip install pydotplus ### if not available in the Python Environment\n",
    "import pydotplus\n",
    "\n",
    "# !pip install pydot ### if not available in the Python Environment\n",
    "import pydot\n"
   ]
  },
  {
   "cell_type": "code",
   "execution_count": 41,
   "id": "02b268fb",
   "metadata": {},
   "outputs": [],
   "source": [
    "from   sklearn                  import  tree\n",
    "from   sklearn.tree             import  DecisionTreeClassifier\n",
    "from   sklearn.tree             import _tree"
   ]
  },
  {
   "cell_type": "code",
   "execution_count": 42,
   "id": "29034093",
   "metadata": {},
   "outputs": [],
   "source": [
    "def draw_cm( actual, predicted ):\n",
    "    \n",
    "    import matplotlib.pyplot as   plt\n",
    "    import sklearn.metrics   as   metrics\n",
    "    import seaborn           as   sns\n",
    "    \n",
    "    cm = metrics.confusion_matrix( actual, predicted)\n",
    "    sns.heatmap(cm, annot=True, fmt='.2f', xticklabels = [\"Yes\", \"No\"] , yticklabels = [\"Yes\", \"No\"] )\n",
    "    plt.ylabel('True label')\n",
    "    plt.xlabel('Predicted label')\n",
    "    plt.show()   "
   ]
  },
  {
   "cell_type": "code",
   "execution_count": 43,
   "id": "11267dc7",
   "metadata": {},
   "outputs": [],
   "source": [
    "def draw_roc( actual, probs ):\n",
    "\n",
    "    import pandas            as   pd\n",
    "    import numpy             as   np\n",
    "    import seaborn           as   sns\n",
    "    import matplotlib.pyplot as   plt\n",
    "    import sklearn.metrics   as   metrics\n",
    "    import seaborn           as   sns\n",
    "    \n",
    "    fpr, tpr, thresholds = metrics.roc_curve( actual, probs,\n",
    "    drop_intermediate = False )\n",
    "    auc_score = metrics.roc_auc_score( actual, probs )\n",
    "    plt.figure(figsize=(6, 4))\n",
    "    plt.plot( fpr, tpr, label='ROC curve (area = %0.2f)' % auc_score )\n",
    "    plt.plot([0, 1], [0, 1], 'k--')\n",
    "    plt.xlim([0.0, 1.0])\n",
    "    plt.ylim([0.0, 1.05])\n",
    "    plt.xlabel('False Positive Rate or [1 - True Negative Rate]')\n",
    "    plt.ylabel('True Positive Rate')\n",
    "    plt.title('Receiver operating characteristic curve')\n",
    "    plt.legend(loc=\"lower right\")\n",
    "    plt.show()\n",
    "    return fpr, tpr, thresholds"
   ]
  },
  {
   "cell_type": "code",
   "execution_count": 44,
   "id": "46580549",
   "metadata": {},
   "outputs": [],
   "source": [
    "def draw_decision_tree(model, X, y, flist, classlist, file_name = 'Tree'):\n",
    "    \n",
    "    from sklearn.tree            import export_graphviz\n",
    "    from six                     import StringIO  \n",
    "    from IPython.core.pylabtools import figsize\n",
    "    from IPython.display         import Image\n",
    "    figsize(12.5, 6)\n",
    "    import pydot\n",
    "\n",
    "    #dot_data = StringIO()  \n",
    "    file_name_dot = file_name + '.dot'\n",
    "    file_name_png = file_name + '.png'\n",
    "    \n",
    "    export_graphviz(model, out_file = file_name_dot, feature_names = flist,\\\n",
    "                    class_names = classlist, filled = True, rounded = True)\n",
    "    (graph,) = pydot.graph_from_dot_file(file_name_dot)\n",
    "    graph.write_png(file_name_png)\n",
    "    return Image(file_name_png)"
   ]
  },
  {
   "cell_type": "code",
   "execution_count": 45,
   "id": "2ba0054b",
   "metadata": {},
   "outputs": [],
   "source": [
    "\"\"\"\n",
    "   Function Name: compare_models\n",
    "\n",
    "   Description: This **function** compares various algorithms on \n",
    "                 1) AUROC 2) Precision, 3) Recall\n",
    "   \n",
    "   Input: 1) splits for k fold \n",
    "          2) random seed number\n",
    "          3) Training data for predictor variables\n",
    "          4) Training data for target variable\n",
    "\n",
    "\n",
    "\n",
    "   Output: Model comparison on these metrics 1) AUROC 2) Metrics - Precision, Recall\n",
    "   \n",
    "\"\"\"\n",
    "def compare_models(n_splits, random_state, X, Y):  \n",
    "\n",
    "    ### To compare algorithms\n",
    "    \n",
    "    import  matplotlib.pyplot            as      plt\n",
    "    from    sklearn.model_selection      import  StratifiedKFold\n",
    "    from    sklearn.model_selection      import  cross_val_score\n",
    "    from    sklearn.linear_model         import  LogisticRegression\n",
    "    from    sklearn.tree                 import  DecisionTreeClassifier\n",
    "    from    sklearn.naive_bayes          import  GaussianNB\n",
    "    from    sklearn.ensemble             import  RandomForestClassifier\n",
    "    \n",
    "    ### Prepare models\n",
    "    \n",
    "    models  = []\n",
    "    models.append(('LR', LogisticRegression(max_iter=10000))) \n",
    "    models.append(('CART', DecisionTreeClassifier()))\n",
    "    models.append(('NB', GaussianNB()))\n",
    "    models.append(('RF', RandomForestClassifier()))\n",
    "    \n",
    "    \n",
    "    ### Evaluate model in turn\n",
    "    \n",
    "    scores_req =  ['roc_auc']\n",
    "    \n",
    "    for i in range(len(scores_req)):\n",
    "        names          =   []\n",
    "        results        =   []\n",
    "        scoring        =   scores_req[i]\n",
    "        print(scoring)\n",
    "        \n",
    "        for name, model in models:\n",
    "            print(\"\\n n_splits %d random_state %d\" % (n_splits, random_state))        \t\n",
    "            skf            =   StratifiedKFold(n_splits=10, shuffle=True, random_state=1)\n",
    "            cv_results     =   cross_val_score(model, X, Y, cv = skf, scoring = scoring)\n",
    "            results.append(cv_results)\n",
    "            names.append(name)\n",
    "            msg = \"%s: %f (%f)\" % (name, cv_results.mean(), cv_results.std())\n",
    "            print(msg)\n",
    "        \n",
    "        ### Box plot algorithm comparison\n",
    "        \n",
    "        sub_title = 'Algorithm Comparison using ' + scoring\n",
    "        \n",
    "        fig = plt.figure()\n",
    "        fig.suptitle(sub_title)\n",
    "        ax  = fig.add_subplot(111)\n",
    "        plt.boxplot(results)\n",
    "        ax.set_xticklabels(names)\n",
    "        plt.show()"
   ]
  },
  {
   "cell_type": "code",
   "execution_count": 46,
   "id": "3fb2f5cf",
   "metadata": {},
   "outputs": [],
   "source": [
    "def tree_to_rules(tree, feature_names, class_names):\n",
    "\n",
    "    left = tree.tree_.children_left\n",
    "    right = tree.tree_.children_right\n",
    "    threshold = tree.tree_.threshold\n",
    "    features = [feature_names[i] for i in tree.tree_.feature]\n",
    "    value = tree.tree_.value\n",
    "\n",
    "    def recurse(left, right, threshold, features, node, depth=0):\n",
    "\n",
    "        indent = \"  \" * depth\n",
    "\n",
    "        if (threshold[node] != -2):\n",
    "\n",
    "            print(indent,\"if ( \" + features[node] + \" <= \" + str(threshold[node]) + \" ) {\")\n",
    "\n",
    "            if left[node] != -1:\n",
    "\n",
    "                recurse (left, right, threshold, features, left[node], depth+1)\n",
    "                print(indent,\"} else {\")\n",
    "\n",
    "                if right[node] != -1:\n",
    "                    recurse (left, right, threshold, features, right[node], depth+1)\n",
    "\n",
    "                print(indent,\"}\")\n",
    "\n",
    "        else:\n",
    "            if value[node][0,0] > value[node][0,1]:\n",
    "              classified = class_names[0]\n",
    "            else:\n",
    "              classified = class_names[1]\n",
    "            print(indent,\"Class = \" + classified)\n",
    "    recurse(left, right, threshold, features, 0)"
   ]
  },
  {
   "cell_type": "code",
   "execution_count": 47,
   "id": "ecce045a",
   "metadata": {},
   "outputs": [
    {
     "name": "stdout",
     "output_type": "stream",
     "text": [
      "<class 'pandas.core.frame.DataFrame'>\n",
      "RangeIndex: 103904 entries, 0 to 103903\n",
      "Data columns (total 23 columns):\n",
      " #   Column                             Non-Null Count   Dtype  \n",
      "---  ------                             --------------   -----  \n",
      " 0   Age                                103904 non-null  int32  \n",
      " 1   Flight_Distance                    103904 non-null  int32  \n",
      " 2   Inflight_wifi_service              103904 non-null  int32  \n",
      " 3   Departure/Arrival_time_convenient  103904 non-null  int32  \n",
      " 4   Ease_of_Online_booking             103904 non-null  int32  \n",
      " 5   Gate_location                      103904 non-null  int32  \n",
      " 6   Food_and_drink                     103904 non-null  int32  \n",
      " 7   Online_boarding                    103904 non-null  int32  \n",
      " 8   Seat_comfort                       103904 non-null  int32  \n",
      " 9   Inflight_entertainment             103904 non-null  int32  \n",
      " 10  On-board_service                   103904 non-null  int32  \n",
      " 11  Leg_room_service                   103904 non-null  int32  \n",
      " 12  Baggage_handling                   103904 non-null  int32  \n",
      " 13  Checkin_service                    103904 non-null  int32  \n",
      " 14  Inflight_service                   103904 non-null  int32  \n",
      " 15  Cleanliness                        103904 non-null  int32  \n",
      " 16  Departure_Delay_in_Minutes         103904 non-null  float64\n",
      " 17  Arrival_Delay_in_Minutes           103904 non-null  float64\n",
      " 18  satisfaction                       103904 non-null  object \n",
      " 19  Gender_code                        103904 non-null  int32  \n",
      " 20  Customer_Type_code                 103904 non-null  int32  \n",
      " 21  Type_of_Travel_code                103904 non-null  int32  \n",
      " 22  Class_code                         103904 non-null  int32  \n",
      "dtypes: float64(2), int32(20), object(1)\n",
      "memory usage: 10.3+ MB\n"
     ]
    }
   ],
   "source": [
    "X_df.info()"
   ]
  },
  {
   "cell_type": "code",
   "execution_count": 48,
   "id": "b6868a8a",
   "metadata": {},
   "outputs": [
    {
     "data": {
      "text/plain": [
       "Index(['Age', 'Flight_Distance', 'Inflight_wifi_service',\n",
       "       'Departure/Arrival_time_convenient', 'Ease_of_Online_booking',\n",
       "       'Gate_location', 'Food_and_drink', 'Online_boarding', 'Seat_comfort',\n",
       "       'Inflight_entertainment', 'On-board_service', 'Leg_room_service',\n",
       "       'Baggage_handling', 'Checkin_service', 'Inflight_service',\n",
       "       'Cleanliness', 'Departure_Delay_in_Minutes', 'Arrival_Delay_in_Minutes',\n",
       "       'satisfaction', 'Gender_code', 'Customer_Type_code',\n",
       "       'Type_of_Travel_code', 'Class_code'],\n",
       "      dtype='object')"
      ]
     },
     "execution_count": 48,
     "metadata": {},
     "output_type": "execute_result"
    }
   ],
   "source": [
    "X_df.columns"
   ]
  },
  {
   "cell_type": "code",
   "execution_count": 49,
   "id": "8f525df6",
   "metadata": {},
   "outputs": [
    {
     "name": "stdout",
     "output_type": "stream",
     "text": [
      "<class 'pandas.core.frame.DataFrame'>\n",
      "RangeIndex: 103904 entries, 0 to 103903\n",
      "Data columns (total 23 columns):\n",
      " #   Column                             Non-Null Count   Dtype   \n",
      "---  ------                             --------------   -----   \n",
      " 0   Age                                103904 non-null  int32   \n",
      " 1   Flight_Distance                    103904 non-null  int32   \n",
      " 2   Inflight_wifi_service              103904 non-null  category\n",
      " 3   Departure/Arrival_time_convenient  103904 non-null  category\n",
      " 4   Ease_of_Online_booking             103904 non-null  category\n",
      " 5   Gate_location                      103904 non-null  category\n",
      " 6   Food_and_drink                     103904 non-null  category\n",
      " 7   Online_boarding                    103904 non-null  category\n",
      " 8   Seat_comfort                       103904 non-null  category\n",
      " 9   Inflight_entertainment             103904 non-null  category\n",
      " 10  On-board_service                   103904 non-null  category\n",
      " 11  Leg_room_service                   103904 non-null  category\n",
      " 12  Baggage_handling                   103904 non-null  category\n",
      " 13  Checkin_service                    103904 non-null  category\n",
      " 14  Inflight_service                   103904 non-null  category\n",
      " 15  Cleanliness                        103904 non-null  category\n",
      " 16  Departure_Delay_in_Minutes         103904 non-null  float64 \n",
      " 17  Arrival_Delay_in_Minutes           103904 non-null  float64 \n",
      " 18  satisfaction                       103904 non-null  category\n",
      " 19  Gender_code                        103904 non-null  category\n",
      " 20  Customer_Type_code                 103904 non-null  category\n",
      " 21  Type_of_Travel_code                103904 non-null  category\n",
      " 22  Class_code                         103904 non-null  category\n",
      "dtypes: category(19), float64(2), int32(2)\n",
      "memory usage: 4.3 MB\n"
     ]
    }
   ],
   "source": [
    "factor_var = ['Inflight_wifi_service', 'Departure/Arrival_time_convenient','Ease_of_Online_booking','Gate_location',\\\n",
    "              'Food_and_drink', 'Online_boarding', 'Seat_comfort','Inflight_entertainment','On-board_service',\\\n",
    "              'Leg_room_service','Baggage_handling', 'Checkin_service', 'Inflight_service','Cleanliness',\\\n",
    "              'satisfaction', 'Gender_code', 'Customer_Type_code', 'Type_of_Travel_code', 'Class_code']\n",
    "###\n",
    "\n",
    "X_df[factor_var] = X_df[factor_var].astype('category')\n",
    "X_df.info()      "
   ]
  },
  {
   "cell_type": "markdown",
   "id": "eb42fd63",
   "metadata": {},
   "source": [
    "### Prepare X representing predictor variables and y representing the response variable"
   ]
  },
  {
   "cell_type": "code",
   "execution_count": 50,
   "id": "198c7f1d",
   "metadata": {},
   "outputs": [],
   "source": [
    "y             =    X_df['satisfaction']\n",
    "X             =    X_df.drop(['satisfaction'], axis = 1)     "
   ]
  },
  {
   "cell_type": "markdown",
   "id": "31cbd70a",
   "metadata": {},
   "source": [
    "### Do a spot check of models performance"
   ]
  },
  {
   "cell_type": "code",
   "execution_count": 51,
   "id": "99a7437a",
   "metadata": {},
   "outputs": [
    {
     "name": "stdout",
     "output_type": "stream",
     "text": [
      "roc_auc\n",
      "\n",
      " n_splits 10 random_state 12345\n",
      "LR: 0.926432 (0.002977)\n",
      "\n",
      " n_splits 10 random_state 12345\n",
      "CART: 0.946232 (0.001481)\n",
      "\n",
      " n_splits 10 random_state 12345\n",
      "NB: 0.922364 (0.003094)\n",
      "\n",
      " n_splits 10 random_state 12345\n",
      "RF: 0.993810 (0.000544)\n"
     ]
    },
    {
     "data": {
      "image/png": "[encoded data removed]",
      "text/plain": [
       "<Figure size 720x720 with 1 Axes>"
      ]
     },
     "metadata": {},
     "output_type": "display_data"
    }
   ],
   "source": [
    "random_state = 12345; n_splits = 10\n",
    "compare_models(n_splits, random_state, X, y)"
   ]
  },
  {
   "cell_type": "markdown",
   "id": "f456fe34",
   "metadata": {},
   "source": [
    "### Observations"
   ]
  },
  {
   "cell_type": "raw",
   "id": "f083aff9",
   "metadata": {},
   "source": [
    "As we know, Recall, the ability of a classification model to identify all data points in a relevant class is very important to us.\n",
    "\n",
    "Based on the above comparison chart, we observe that both Decision Tree (CART) and Random Forest models give better predictions and their recall score is above 95%."
   ]
  },
  {
   "cell_type": "markdown",
   "id": "f70f6c0c",
   "metadata": {},
   "source": [
    "### Let us use Decision Tree model as our Base model"
   ]
  },
  {
   "cell_type": "markdown",
   "id": "a8b0ece9",
   "metadata": {},
   "source": [
    "### Split data into training and test datasets"
   ]
  },
  {
   "cell_type": "code",
   "execution_count": 52,
   "id": "d47a4107",
   "metadata": {},
   "outputs": [],
   "source": [
    "seed      = 1\n",
    "test_size = 0.30\n",
    "X_train, X_test, y_train, y_test = train_test_split(X, y, test_size = test_size, random_state = seed, stratify = y) "
   ]
  },
  {
   "cell_type": "markdown",
   "id": "07a2cade",
   "metadata": {},
   "source": [
    "### Build Decision Tree model"
   ]
  },
  {
   "cell_type": "code",
   "execution_count": 53,
   "id": "d0b6835d",
   "metadata": {},
   "outputs": [],
   "source": [
    "clf    = DecisionTreeClassifier()\n",
    "\n",
    "# Train Decision Tree Classifer\n",
    "clf    = clf.fit(X_train,y_train)"
   ]
  },
  {
   "cell_type": "markdown",
   "id": "2aec8c7f",
   "metadata": {},
   "source": [
    "### Predict the response for train dataset"
   ]
  },
  {
   "cell_type": "code",
   "execution_count": 54,
   "id": "05b5d3c1",
   "metadata": {},
   "outputs": [],
   "source": [
    "predicted_train = clf.predict(X_train)"
   ]
  },
  {
   "cell_type": "code",
   "execution_count": 55,
   "id": "3fc0454a",
   "metadata": {},
   "outputs": [
    {
     "name": "stdout",
     "output_type": "stream",
     "text": [
      "\n",
      "Training Data\n",
      "[[41215     0]\n",
      " [    0 31517]]\n"
     ]
    },
    {
     "data": {
      "image/png": "[encoded data removed]",
      "text/plain": [
       "<Figure size 720x720 with 2 Axes>"
      ]
     },
     "metadata": {},
     "output_type": "display_data"
    },
    {
     "name": "stdout",
     "output_type": "stream",
     "text": [
      "Training Accuracy: 100.000%\n"
     ]
    }
   ],
   "source": [
    "matrix             = confusion_matrix(y_train, predicted_train)\n",
    "print(\"\\nTraining Data\")\n",
    "print(matrix)\n",
    "draw_cm(y_train, predicted_train)\n",
    "###     \n",
    "accuracy_train = clf.score(X_train, y_train) \n",
    "print(\"Training Accuracy: %.3f%%\" % (accuracy_train * 100.0))"
   ]
  },
  {
   "cell_type": "code",
   "execution_count": 56,
   "id": "968391c3",
   "metadata": {},
   "outputs": [
    {
     "name": "stdout",
     "output_type": "stream",
     "text": [
      "\n",
      "Training data\n",
      "                         precision    recall  f1-score   support\n",
      "\n",
      "neutral or dissatisfied       1.00      1.00      1.00     41215\n",
      "              satisfied       1.00      1.00      1.00     31517\n",
      "\n",
      "               accuracy                           1.00     72732\n",
      "              macro avg       1.00      1.00      1.00     72732\n",
      "           weighted avg       1.00      1.00      1.00     72732\n",
      "\n"
     ]
    }
   ],
   "source": [
    "measures_train     = classification_report(y_train, predicted_train) \n",
    "print(\"\\nTraining data\")\n",
    "print(measures_train) "
   ]
  },
  {
   "cell_type": "markdown",
   "id": "f4e7e084",
   "metadata": {},
   "source": [
    "### Predict the response for test dataset"
   ]
  },
  {
   "cell_type": "code",
   "execution_count": 57,
   "id": "2cd96bbe",
   "metadata": {},
   "outputs": [],
   "source": [
    "predicted_testing = clf.predict(X_test)"
   ]
  },
  {
   "cell_type": "code",
   "execution_count": 58,
   "id": "856c3cc7",
   "metadata": {},
   "outputs": [
    {
     "name": "stdout",
     "output_type": "stream",
     "text": [
      "\n",
      "Testing Data\n",
      "[[16774   890]\n",
      " [  797 12711]]\n"
     ]
    },
    {
     "data": {
      "image/png": "[encoded data removed]",
      "text/plain": [
       "<Figure size 720x720 with 2 Axes>"
      ]
     },
     "metadata": {},
     "output_type": "display_data"
    },
    {
     "name": "stdout",
     "output_type": "stream",
     "text": [
      "Testing Accuracy: 94.588%\n"
     ]
    }
   ],
   "source": [
    "matrix             = confusion_matrix(y_test, predicted_testing)\n",
    "print(\"\\nTesting Data\")\n",
    "print(matrix)\n",
    "draw_cm(y_test, predicted_testing )\n",
    "    \n",
    "accuracy_train = clf.score(X_test, y_test) \n",
    "print(\"Testing Accuracy: %.3f%%\" % (accuracy_train * 100.0))"
   ]
  },
  {
   "cell_type": "code",
   "execution_count": 59,
   "id": "3c744d68",
   "metadata": {},
   "outputs": [
    {
     "name": "stdout",
     "output_type": "stream",
     "text": [
      "\n",
      "Training data\n",
      "                         precision    recall  f1-score   support\n",
      "\n",
      "neutral or dissatisfied       0.95      0.95      0.95     17664\n",
      "              satisfied       0.93      0.94      0.94     13508\n",
      "\n",
      "               accuracy                           0.95     31172\n",
      "              macro avg       0.94      0.95      0.94     31172\n",
      "           weighted avg       0.95      0.95      0.95     31172\n",
      "\n"
     ]
    }
   ],
   "source": [
    "measures_test     = classification_report(y_test, predicted_testing) \n",
    "print(\"\\nTraining data\")\n",
    "print(measures_test) "
   ]
  },
  {
   "cell_type": "markdown",
   "id": "e7b22235",
   "metadata": {},
   "source": [
    "### Observations"
   ]
  },
  {
   "cell_type": "raw",
   "id": "bd7b44d4",
   "metadata": {},
   "source": [
    "We observe that the performance measures for both training data and test data are in the same range ruling out Model Overfit"
   ]
  },
  {
   "cell_type": "markdown",
   "id": "02e3f8fb",
   "metadata": {},
   "source": [
    "### Get insights from the model"
   ]
  },
  {
   "cell_type": "raw",
   "id": "5b10e988",
   "metadata": {},
   "source": [
    "Feature importance scores can provide insight into the model. Most importance scores are calculated by a predictive model that has been fit on the dataset. Inspecting the importance score provides insight into that specific model and which features are the most important and least important to the model when making a prediction. This is a type of model interpretation that can be performed for those models that support it."
   ]
  },
  {
   "cell_type": "raw",
   "id": "d4caa731",
   "metadata": {},
   "source": [
    "Ref: https://machinelearningmastery.com/calculate-feature-importance-with-python/"
   ]
  },
  {
   "cell_type": "raw",
   "id": "68a5555e",
   "metadata": {},
   "source": [
    "Decision tree algorithms like classification and regression trees (CART) offer importance scores based on the reduction in the criterion used to select split points, like Gini or entropy."
   ]
  },
  {
   "cell_type": "code",
   "execution_count": 60,
   "id": "c09410ba",
   "metadata": {},
   "outputs": [],
   "source": [
    "flist     = X.columns\n",
    "classlist = ['Satisfied', 'Not Satisfied']"
   ]
  },
  {
   "cell_type": "markdown",
   "id": "69230d85",
   "metadata": {},
   "source": [
    "# Plot a tree\n",
    "draw_decision_tree(clf, X_train, y_train, flist, classlist, file_name = 'Tree')"
   ]
  },
  {
   "cell_type": "markdown",
   "id": "9bfda7dd",
   "metadata": {},
   "source": [
    "### Pruning the tree"
   ]
  },
  {
   "cell_type": "code",
   "execution_count": 61,
   "id": "c4889ae5",
   "metadata": {},
   "outputs": [
    {
     "data": {
      "text/plain": [
       "\"\\n\\nDecisionTreeClassifier(\\n    *,\\n    criterion='gini',\\n    splitter='best',\\n    max_depth=None,\\n    min_samples_split=2,\\n    min_samples_leaf=1,\\n    min_weight_fraction_leaf=0.0,\\n    max_features=None,\\n    random_state=None,\\n    max_leaf_nodes=None,\\n    min_impurity_decrease=0.0,\\n    class_weight=None,\\n    ccp_alpha=0.0,\\n)\\n\\n\""
      ]
     },
     "execution_count": 61,
     "metadata": {},
     "output_type": "execute_result"
    }
   ],
   "source": [
    "clf1    = DecisionTreeClassifier(max_depth = 4, random_state = 12345).fit(X_train,y_train)\n",
    "\n",
    "\"\"\"\n",
    "\n",
    "DecisionTreeClassifier(\n",
    "    *,\n",
    "    criterion='gini',\n",
    "    splitter='best',\n",
    "    max_depth=None,\n",
    "    min_samples_split=2,\n",
    "    min_samples_leaf=1,\n",
    "    min_weight_fraction_leaf=0.0,\n",
    "    max_features=None,\n",
    "    random_state=None,\n",
    "    max_leaf_nodes=None,\n",
    "    min_impurity_decrease=0.0,\n",
    "    class_weight=None,\n",
    "    ccp_alpha=0.0,\n",
    ")\n",
    "\n",
    "\"\"\""
   ]
  },
  {
   "cell_type": "markdown",
   "id": "0b0d19ac",
   "metadata": {},
   "source": [
    "#  Plot a Pruned tree\n",
    "draw_decision_tree(clf1, X_train, y_train, flist, classlist, file_name = 'Tree')"
   ]
  },
  {
   "cell_type": "code",
   "execution_count": 62,
   "id": "9c6b82e3",
   "metadata": {},
   "outputs": [
    {
     "name": "stdout",
     "output_type": "stream",
     "text": [
      " if ( Online_boarding <= 3.5 ) {\n",
      "   if ( Inflight_wifi_service <= 0.5 ) {\n",
      "     if ( Cleanliness <= 0.5 ) {\n",
      "       Class = Satisfied\n",
      "     } else {\n",
      "       Class = Not Satisfied\n",
      "     }\n",
      "   } else {\n",
      "     if ( Inflight_wifi_service <= 3.5 ) {\n",
      "       if ( Class_code <= 0.5 ) {\n",
      "         Class = Satisfied\n",
      "       } else {\n",
      "         Class = Satisfied\n",
      "       }\n",
      "     } else {\n",
      "       if ( Inflight_wifi_service <= 4.5 ) {\n",
      "         Class = Satisfied\n",
      "       } else {\n",
      "         Class = Not Satisfied\n",
      "       }\n",
      "     }\n",
      "   }\n",
      " } else {\n",
      "   if ( Type_of_Travel_code <= 0.5 ) {\n",
      "     if ( Inflight_entertainment <= 3.5 ) {\n",
      "       if ( Online_boarding <= 4.5 ) {\n",
      "         Class = Satisfied\n",
      "       } else {\n",
      "         Class = Not Satisfied\n",
      "       }\n",
      "     } else {\n",
      "       if ( Customer_Type_code <= 0.5 ) {\n",
      "         Class = Not Satisfied\n",
      "       } else {\n",
      "         Class = Not Satisfied\n",
      "       }\n",
      "     }\n",
      "   } else {\n",
      "     if ( Inflight_wifi_service <= 4.5 ) {\n",
      "       if ( Inflight_wifi_service <= 3.5 ) {\n",
      "         Class = Satisfied\n",
      "       } else {\n",
      "         Class = Satisfied\n",
      "       }\n",
      "     } else {\n",
      "       Class = Not Satisfied\n",
      "     }\n",
      "   }\n",
      " }\n"
     ]
    }
   ],
   "source": [
    "tree_to_rules(clf1, flist, classlist)"
   ]
  },
  {
   "cell_type": "code",
   "execution_count": 63,
   "id": "c935f1fc",
   "metadata": {},
   "outputs": [
    {
     "data": {
      "text/plain": [
       "<function matplotlib.pyplot.show(close=None, block=None)>"
      ]
     },
     "execution_count": 63,
     "metadata": {},
     "output_type": "execute_result"
    },
    {
     "data": {
      "image/png": "[encoded data removed]",
      "text/plain": [
       "<Figure size 720x720 with 1 Axes>"
      ]
     },
     "metadata": {},
     "output_type": "display_data"
    }
   ],
   "source": [
    "importances = clf1.feature_importances_\n",
    "indices     = np.argsort(importances)\n",
    "\n",
    "plt.title('Feature Importances')\n",
    "plt.barh(range(len(indices)), importances[indices], color='b', align='center')\n",
    "plt.yticks(range(len(indices)), [flist[i] for i in indices])\n",
    "plt.xlabel('Relative Importance')\n",
    "plt.show"
   ]
  },
  {
   "cell_type": "code",
   "execution_count": 64,
   "id": "8c831efa",
   "metadata": {},
   "outputs": [],
   "source": [
    "idf =  pd.DataFrame({'Name' : [flist[i] for i in indices], 'Value' : importances[indices] *100 })"
   ]
  },
  {
   "cell_type": "code",
   "execution_count": 65,
   "id": "6ad76058",
   "metadata": {},
   "outputs": [],
   "source": [
    "idf.sort_values('Value', ascending = False, inplace = True)\n",
    "idf.set_index(keys = 'Name', inplace = True)"
   ]
  },
  {
   "cell_type": "code",
   "execution_count": 66,
   "id": "0c77ba54",
   "metadata": {},
   "outputs": [
    {
     "data": {
      "text/html": [
       "<div>\n",
       "<style scoped>\n",
       "    .dataframe tbody tr th:only-of-type {\n",
       "        vertical-align: middle;\n",
       "    }\n",
       "\n",
       "    .dataframe tbody tr th {\n",
       "        vertical-align: top;\n",
       "    }\n",
       "\n",
       "    .dataframe thead th {\n",
       "        text-align: right;\n",
       "    }\n",
       "</style>\n",
       "<table border=\"1\" class=\"dataframe\">\n",
       "  <thead>\n",
       "    <tr style=\"text-align: right;\">\n",
       "      <th></th>\n",
       "      <th>Value</th>\n",
       "    </tr>\n",
       "    <tr>\n",
       "      <th>Name</th>\n",
       "      <th></th>\n",
       "    </tr>\n",
       "  </thead>\n",
       "  <tbody>\n",
       "    <tr>\n",
       "      <th>Online_boarding</th>\n",
       "      <td>51.991207</td>\n",
       "    </tr>\n",
       "    <tr>\n",
       "      <th>Inflight_wifi_service</th>\n",
       "      <td>22.151439</td>\n",
       "    </tr>\n",
       "    <tr>\n",
       "      <th>Type_of_Travel_code</th>\n",
       "      <td>18.585790</td>\n",
       "    </tr>\n",
       "    <tr>\n",
       "      <th>Inflight_entertainment</th>\n",
       "      <td>4.180145</td>\n",
       "    </tr>\n",
       "    <tr>\n",
       "      <th>Class_code</th>\n",
       "      <td>1.533722</td>\n",
       "    </tr>\n",
       "    <tr>\n",
       "      <th>Customer_Type_code</th>\n",
       "      <td>1.516948</td>\n",
       "    </tr>\n",
       "    <tr>\n",
       "      <th>Cleanliness</th>\n",
       "      <td>0.040748</td>\n",
       "    </tr>\n",
       "    <tr>\n",
       "      <th>Gender_code</th>\n",
       "      <td>0.000000</td>\n",
       "    </tr>\n",
       "    <tr>\n",
       "      <th>Seat_comfort</th>\n",
       "      <td>0.000000</td>\n",
       "    </tr>\n",
       "    <tr>\n",
       "      <th>Flight_Distance</th>\n",
       "      <td>0.000000</td>\n",
       "    </tr>\n",
       "    <tr>\n",
       "      <th>Departure/Arrival_time_convenient</th>\n",
       "      <td>0.000000</td>\n",
       "    </tr>\n",
       "    <tr>\n",
       "      <th>Age</th>\n",
       "      <td>0.000000</td>\n",
       "    </tr>\n",
       "    <tr>\n",
       "      <th>Gate_location</th>\n",
       "      <td>0.000000</td>\n",
       "    </tr>\n",
       "    <tr>\n",
       "      <th>Food_and_drink</th>\n",
       "      <td>0.000000</td>\n",
       "    </tr>\n",
       "    <tr>\n",
       "      <th>On-board_service</th>\n",
       "      <td>0.000000</td>\n",
       "    </tr>\n",
       "    <tr>\n",
       "      <th>Leg_room_service</th>\n",
       "      <td>0.000000</td>\n",
       "    </tr>\n",
       "    <tr>\n",
       "      <th>Baggage_handling</th>\n",
       "      <td>0.000000</td>\n",
       "    </tr>\n",
       "    <tr>\n",
       "      <th>Checkin_service</th>\n",
       "      <td>0.000000</td>\n",
       "    </tr>\n",
       "    <tr>\n",
       "      <th>Inflight_service</th>\n",
       "      <td>0.000000</td>\n",
       "    </tr>\n",
       "    <tr>\n",
       "      <th>Departure_Delay_in_Minutes</th>\n",
       "      <td>0.000000</td>\n",
       "    </tr>\n",
       "    <tr>\n",
       "      <th>Arrival_Delay_in_Minutes</th>\n",
       "      <td>0.000000</td>\n",
       "    </tr>\n",
       "    <tr>\n",
       "      <th>Ease_of_Online_booking</th>\n",
       "      <td>0.000000</td>\n",
       "    </tr>\n",
       "  </tbody>\n",
       "</table>\n",
       "</div>"
      ],
      "text/plain": [
       "                                      Value\n",
       "Name                                       \n",
       "Online_boarding                   51.991207\n",
       "Inflight_wifi_service             22.151439\n",
       "Type_of_Travel_code               18.585790\n",
       "Inflight_entertainment             4.180145\n",
       "Class_code                         1.533722\n",
       "Customer_Type_code                 1.516948\n",
       "Cleanliness                        0.040748\n",
       "Gender_code                        0.000000\n",
       "Seat_comfort                       0.000000\n",
       "Flight_Distance                    0.000000\n",
       "Departure/Arrival_time_convenient  0.000000\n",
       "Age                                0.000000\n",
       "Gate_location                      0.000000\n",
       "Food_and_drink                     0.000000\n",
       "On-board_service                   0.000000\n",
       "Leg_room_service                   0.000000\n",
       "Baggage_handling                   0.000000\n",
       "Checkin_service                    0.000000\n",
       "Inflight_service                   0.000000\n",
       "Departure_Delay_in_Minutes         0.000000\n",
       "Arrival_Delay_in_Minutes           0.000000\n",
       "Ease_of_Online_booking             0.000000"
      ]
     },
     "execution_count": 66,
     "metadata": {},
     "output_type": "execute_result"
    }
   ],
   "source": [
    "idf"
   ]
  }
 ],
 "metadata": {
  "kernelspec": {
   "display_name": "Python 3 (ipykernel)",
   "language": "python",
   "name": "python3"
  },
  "language_info": {
   "codemirror_mode": {
    "name": "ipython",
    "version": 3
   },
   "file_extension": ".py",
   "mimetype": "text/x-python",
   "name": "python",
   "nbconvert_exporter": "python",
   "pygments_lexer": "ipython3",
   "version": "3.9.12"
  }
 },
 "nbformat": 4,
 "nbformat_minor": 5
}
