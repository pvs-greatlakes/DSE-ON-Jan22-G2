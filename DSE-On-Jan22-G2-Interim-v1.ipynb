{
 "cells": [
  {
   "cell_type": "markdown",
   "id": "219af8e7",
   "metadata": {},
   "source": [
    "# Airline Passenger Satisfaction Analysis using Machine Learning Techniques\n"
   ]
  },
  {
   "cell_type": "markdown",
   "id": "389a6277",
   "metadata": {},
   "source": [
    "### 1) Load required modules"
   ]
  },
  {
   "cell_type": "code",
   "execution_count": 1,
   "id": "f0b07e86",
   "metadata": {},
   "outputs": [],
   "source": [
    "# import 'os'\n",
    "import  os\n",
    "\n",
    "# import 'Pandas' \n",
    "import pandas as pd \n",
    "\n",
    "# import 'Numpy' \n",
    "import numpy as np\n",
    "\n",
    "# import 'matplotlib.pyplot' \n",
    "import matplotlib.pyplot as plt\n",
    "\n",
    "# import 'Seaborn' \n",
    "import seaborn as sns\n",
    "\n",
    "# to suppress warnings \n",
    "from warnings import filterwarnings\n",
    "filterwarnings('ignore')\n",
    "\n",
    "# display all columns of the dataframe\n",
    "pd.options.display.max_columns = None\n",
    "\n",
    "# display all rows of the dataframe\n",
    "pd.options.display.max_rows = None\n",
    " \n",
    "# to suppress the notation 'e'    \n",
    "pd.options.display.float_format = '{:.6f}'.format\n",
    "\n",
    "# import various metrics from 'Scikit-learn' (sklearn)\n",
    "from sklearn.model_selection import train_test_split\n",
    "\n",
    "from   sklearn.preprocessing    import  OrdinalEncoder\n",
    "from   sklearn.preprocessing    import  LabelEncoder\n",
    "labelencoder = LabelEncoder()"
   ]
  },
  {
   "cell_type": "code",
   "execution_count": 2,
   "id": "494b34f7",
   "metadata": {},
   "outputs": [],
   "source": [
    "import time\n",
    "from    datetime   import datetime\n",
    "from    datetime   import timedelta"
   ]
  },
  {
   "cell_type": "code",
   "execution_count": 3,
   "id": "cc1105de",
   "metadata": {},
   "outputs": [],
   "source": [
    "# Figure size\n",
    "sns.set(rc={'figure.figsize':(10,10)}) #width=10, #height=10"
   ]
  },
  {
   "cell_type": "code",
   "execution_count": 4,
   "id": "d6acc84a",
   "metadata": {},
   "outputs": [],
   "source": [
    "# 'Statsmodels' is used to build and analyze various statistical models\n",
    "import statsmodels\n",
    "import statsmodels.api                        as      sm\n",
    "import statsmodels.stats.api                  as      sms\n",
    "import statsmodels.formula.api                as      smf\n",
    "\n",
    "from    statsmodels.tools.eval_measures       import   rmse\n",
    "from    statsmodels.compat                    import   lzip\n",
    "from    statsmodels.stats.outliers_influence  import   variance_inflation_factor\n",
    "from    statsmodels.stats.diagnostic          import   linear_rainbow\n",
    "\n",
    "import  statsmodels.tsa.api                   as       smt\n",
    "from    statsmodels.graphics.gofplots         import   qqplot\n",
    "from    statsmodels.stats.stattools           import   durbin_watson\n",
    "\n",
    "# 'SciPy' is used to perform scientific computations\n",
    "from    scipy                                 import   stats\n",
    "from    scipy.stats                           import   shapiro\n",
    "\n",
    "# 'metrics' from sklearn is used for evaluating the model performance\n",
    "from    sklearn.metrics                       import   mean_absolute_error\n",
    "from    sklearn.metrics                       import   mean_squared_error\n"
   ]
  },
  {
   "cell_type": "code",
   "execution_count": 5,
   "id": "436d93f7",
   "metadata": {},
   "outputs": [],
   "source": [
    "### Imputing missing numerical values using the IterativeImputer class in sklearn \n",
    "\n",
    "from sklearn.experimental  import   enable_iterative_imputer\n",
    "from sklearn.impute        import   IterativeImputer\n",
    "from sklearn.linear_model   import   LinearRegression\n",
    "\n",
    "### https://www.numpyninja.com/post/mice-and-knn-missing-value-imputations-through-python"
   ]
  },
  {
   "cell_type": "code",
   "execution_count": 6,
   "id": "42117325",
   "metadata": {},
   "outputs": [],
   "source": [
    "def missing_zero_values_table(df):\n",
    "        zero_val = (df == 0.00).astype(int).sum(axis=0)\n",
    "        mis_val = df.isnull().sum()\n",
    "        mis_val_percent = 100 * df.isnull().sum() / len(df)\n",
    "        mz_table = pd.concat([zero_val, mis_val, mis_val_percent], axis=1)\n",
    "        mz_table = mz_table.rename(\n",
    "        columns = {0 : 'Zero Values', 1 : 'Missing Values', 2 : '% of Total Values'})\n",
    "        mz_table['Total Zero & Missing Values'] = mz_table['Zero Values'] + mz_table['Missing Values']\n",
    "        mz_table['% Total Zero & Missing Values'] = 100 * mz_table['Total Zero & Missing Values'] / len(df)\n",
    "        mz_table['Data Type'] = df.dtypes\n",
    "        mz_table = mz_table[\n",
    "            mz_table.iloc[:,1] != 0].sort_values(\n",
    "        '% of Total Values', ascending=False).round(1)\n",
    "        print (\"Your selected dataframe has \" + str(df.shape[1]) + \" columns and \" + str(df.shape[0]) + \" Rows.\\n\"      \n",
    "            \"There are \" + str(mz_table.shape[0]) +\n",
    "              \" columns that have missing values.\")\n",
    "#         mz_table.to_excel('D:/sampledata/missing_and_zero_values.xlsx', freeze_panes=(1,0), index = False)\n",
    "        return mz_table"
   ]
  },
  {
   "cell_type": "markdown",
   "id": "b7dc4e3b",
   "metadata": {},
   "source": [
    "**ATTRIBUTES**\n",
    "\n",
    "| SNo | Column Name | Descrption |\n",
    "| --- | -------------------- | --------------------------------|\n",
    "|  1 | SR | Serial Number |\n",
    "|  2 | Id | Id number of the passengers |\n",
    "|  3 | Gender | Gender of the passengers (Female, Male)  |\n",
    "|  4 | Customer Type | The customer type (Loyal customer, disloyal customer) |\n",
    "|  5 | Age | The actual age of the passengers |\n",
    "|  6 | Type of Travel | Purpose of the flight of the passengers (Personal Travel, Business Travel)  |\n",
    "|  7 | Class | Travel class in the plane of the passengers (Business, Eco, Eco Plus) |  \n",
    "|  8 | Flight Distance  | The flight distance of this journey |\n",
    "|  9 | Inflight wifi service  | Satisfaction level of the inflight wifi service (0,1,2,3,4,5/ 0=Not Applicable; 1=Least Satisfied to 5=Most Satisfied)  |\n",
    "|  10 | Departure/Arrival time convenient  | Satisfaction level of Departure/Arrival time convenient (0,1,2,3,4,5/ 0=Not Applicable; 1=Least Satisfied to 5=Most Satisfied)  |\n",
    "| 11 | Ease of Online booking  | Satisfaction level of online booking (0,1,2,3,4,5/ 0=Not Applicable; 1=Least Satisfied to 5=Most Satisfied) |\n",
    "| 12 | Gate location | Satisfaction level of Gate location (0,1,2,3,4,5/ 0=Not Applicable; 1=Least Satisfied to 5=Most Satisfied) |\n",
    "| 13 | Food and drink | Satisfaction level of Food and drink service (0,1,2,3,4,5/ 0=Not Applicable; 1=Least Satisfied to 5=Most Satisfied) |\n",
    "| 14 | Online boarding | Satisfaction level of online boarding (0,1,2,3,4,5/ 0=Not Applicable; 1=Least Satisfied to 5=Most Satisfied) |\n",
    "| 15 | Seat comfort | Satisfaction level of Seat comfort (0,1,2,3,4,5/ 0=Not Applicable; 1=Least Satisfied to 5=Most Satisfied) |\n",
    "| 16 | Inflight entertainment  | Satisfaction level of inflight entertainment (0,1,2,3,4,5/ 0=Not Applicable; 1=Least Satisfied to 5=Most Satisfied) |   \n",
    "| 17 | On-board service | Satisfaction level of On-board service (0,1,2,3,4,5/ 0=Not Applicable; 1=Least Satisfied to 5=Most Satisfied) |   \n",
    "| 18 | Leg room service | Satisfaction level of Leg room service (0,1,2,3,4,5/ 0=Not Applicable; 1=Least Satisfied to 5=Most Satisfied) | \n",
    "| 19 | Baggage handling | Satisfaction level of baggage handling (1,2,3,4,5/ 1=Least Satisfied to 5=Most Satisfied)  |  \n",
    "| 20 | Checkin service | Satisfaction level of Check-in service (0,1,2,3,4,5/ 0=Not Applicable; 1=Least Satisfied to 5=Most Satisfied) | \n",
    "| 21 | Inflight service | Satisfaction level of inflight service (0,1,2,3,4,5/ 0=Not Applicable; 1=Least Satisfied to 5=Most Satisfied) | \n",
    "| 22 | Cleanliness | Satisfaction level of Cleanliness (0,1,2,3,4,5/ 0=Not Applicable; 1=Least Satisfied to 5=Most Satisfied) | \n",
    "| 23 | Departure Delay in Minutes | Minutes delayed when departure |\n",
    "| 24 | Arrival Delay in Minutes | Minutes delayed when arrival |\n",
    "| 25 | Satisfaction | Airline satisfaction level ('satisfied', 'neutral or dissatisfied') |\n"
   ]
  },
  {
   "cell_type": "markdown",
   "id": "d569369b",
   "metadata": {},
   "source": [
    "#### 2) Read data file"
   ]
  },
  {
   "cell_type": "code",
   "execution_count": 7,
   "id": "15b145c5",
   "metadata": {},
   "outputs": [],
   "source": [
    "folder     =    r'C:\\DSE-Capstone\\DSE-ON-Jan22-G2'\n",
    "os.chdir(folder)"
   ]
  },
  {
   "cell_type": "code",
   "execution_count": 8,
   "id": "7d38ae92",
   "metadata": {},
   "outputs": [],
   "source": [
    "file_name   =  './Data/airline_clnd.csv'"
   ]
  },
  {
   "cell_type": "code",
   "execution_count": 9,
   "id": "d9734718",
   "metadata": {},
   "outputs": [
    {
     "data": {
      "text/html": [
       "<div>\n",
       "<style scoped>\n",
       "    .dataframe tbody tr th:only-of-type {\n",
       "        vertical-align: middle;\n",
       "    }\n",
       "\n",
       "    .dataframe tbody tr th {\n",
       "        vertical-align: top;\n",
       "    }\n",
       "\n",
       "    .dataframe thead th {\n",
       "        text-align: right;\n",
       "    }\n",
       "</style>\n",
       "<table border=\"1\" class=\"dataframe\">\n",
       "  <thead>\n",
       "    <tr style=\"text-align: right;\">\n",
       "      <th></th>\n",
       "      <th>0</th>\n",
       "      <th>1</th>\n",
       "      <th>2</th>\n",
       "      <th>3</th>\n",
       "      <th>4</th>\n",
       "    </tr>\n",
       "  </thead>\n",
       "  <tbody>\n",
       "    <tr>\n",
       "      <th>SR</th>\n",
       "      <td>0</td>\n",
       "      <td>1</td>\n",
       "      <td>2</td>\n",
       "      <td>3</td>\n",
       "      <td>4</td>\n",
       "    </tr>\n",
       "    <tr>\n",
       "      <th>id</th>\n",
       "      <td>70172</td>\n",
       "      <td>5047</td>\n",
       "      <td>110028</td>\n",
       "      <td>24026</td>\n",
       "      <td>119299</td>\n",
       "    </tr>\n",
       "    <tr>\n",
       "      <th>Gender</th>\n",
       "      <td>Male</td>\n",
       "      <td>Male</td>\n",
       "      <td>Female</td>\n",
       "      <td>Female</td>\n",
       "      <td>Male</td>\n",
       "    </tr>\n",
       "    <tr>\n",
       "      <th>Customer_Type</th>\n",
       "      <td>Loyal Customer</td>\n",
       "      <td>disloyal Customer</td>\n",
       "      <td>Loyal Customer</td>\n",
       "      <td>Loyal Customer</td>\n",
       "      <td>Loyal Customer</td>\n",
       "    </tr>\n",
       "    <tr>\n",
       "      <th>Age</th>\n",
       "      <td>13</td>\n",
       "      <td>25</td>\n",
       "      <td>26</td>\n",
       "      <td>25</td>\n",
       "      <td>61</td>\n",
       "    </tr>\n",
       "    <tr>\n",
       "      <th>Type_of_Travel</th>\n",
       "      <td>Personal Travel</td>\n",
       "      <td>Business travel</td>\n",
       "      <td>Business travel</td>\n",
       "      <td>Business travel</td>\n",
       "      <td>Business travel</td>\n",
       "    </tr>\n",
       "    <tr>\n",
       "      <th>Class</th>\n",
       "      <td>Eco Plus</td>\n",
       "      <td>Business</td>\n",
       "      <td>Business</td>\n",
       "      <td>Business</td>\n",
       "      <td>Business</td>\n",
       "    </tr>\n",
       "    <tr>\n",
       "      <th>Flight_Distance</th>\n",
       "      <td>460</td>\n",
       "      <td>235</td>\n",
       "      <td>1142</td>\n",
       "      <td>562</td>\n",
       "      <td>214</td>\n",
       "    </tr>\n",
       "    <tr>\n",
       "      <th>Inflight_wifi_service</th>\n",
       "      <td>3</td>\n",
       "      <td>3</td>\n",
       "      <td>2</td>\n",
       "      <td>2</td>\n",
       "      <td>3</td>\n",
       "    </tr>\n",
       "    <tr>\n",
       "      <th>Departure/Arrival_time_convenient</th>\n",
       "      <td>4</td>\n",
       "      <td>2</td>\n",
       "      <td>2</td>\n",
       "      <td>5</td>\n",
       "      <td>3</td>\n",
       "    </tr>\n",
       "    <tr>\n",
       "      <th>Ease_of_Online_booking</th>\n",
       "      <td>3</td>\n",
       "      <td>3</td>\n",
       "      <td>2</td>\n",
       "      <td>5</td>\n",
       "      <td>3</td>\n",
       "    </tr>\n",
       "    <tr>\n",
       "      <th>Gate_location</th>\n",
       "      <td>1</td>\n",
       "      <td>3</td>\n",
       "      <td>2</td>\n",
       "      <td>5</td>\n",
       "      <td>3</td>\n",
       "    </tr>\n",
       "    <tr>\n",
       "      <th>Food_and_drink</th>\n",
       "      <td>5</td>\n",
       "      <td>1</td>\n",
       "      <td>5</td>\n",
       "      <td>2</td>\n",
       "      <td>4</td>\n",
       "    </tr>\n",
       "    <tr>\n",
       "      <th>Online_boarding</th>\n",
       "      <td>3</td>\n",
       "      <td>3</td>\n",
       "      <td>5</td>\n",
       "      <td>2</td>\n",
       "      <td>5</td>\n",
       "    </tr>\n",
       "    <tr>\n",
       "      <th>Seat_comfort</th>\n",
       "      <td>5</td>\n",
       "      <td>1</td>\n",
       "      <td>5</td>\n",
       "      <td>2</td>\n",
       "      <td>5</td>\n",
       "    </tr>\n",
       "    <tr>\n",
       "      <th>Inflight_entertainment</th>\n",
       "      <td>5</td>\n",
       "      <td>1</td>\n",
       "      <td>5</td>\n",
       "      <td>2</td>\n",
       "      <td>3</td>\n",
       "    </tr>\n",
       "    <tr>\n",
       "      <th>On-board_service</th>\n",
       "      <td>4</td>\n",
       "      <td>1</td>\n",
       "      <td>4</td>\n",
       "      <td>2</td>\n",
       "      <td>3</td>\n",
       "    </tr>\n",
       "    <tr>\n",
       "      <th>Leg_room_service</th>\n",
       "      <td>3</td>\n",
       "      <td>5</td>\n",
       "      <td>3</td>\n",
       "      <td>5</td>\n",
       "      <td>4</td>\n",
       "    </tr>\n",
       "    <tr>\n",
       "      <th>Baggage_handling</th>\n",
       "      <td>4</td>\n",
       "      <td>3</td>\n",
       "      <td>4</td>\n",
       "      <td>3</td>\n",
       "      <td>4</td>\n",
       "    </tr>\n",
       "    <tr>\n",
       "      <th>Checkin_service</th>\n",
       "      <td>4</td>\n",
       "      <td>1</td>\n",
       "      <td>4</td>\n",
       "      <td>1</td>\n",
       "      <td>3</td>\n",
       "    </tr>\n",
       "    <tr>\n",
       "      <th>Inflight_service</th>\n",
       "      <td>5</td>\n",
       "      <td>4</td>\n",
       "      <td>4</td>\n",
       "      <td>4</td>\n",
       "      <td>3</td>\n",
       "    </tr>\n",
       "    <tr>\n",
       "      <th>Cleanliness</th>\n",
       "      <td>5</td>\n",
       "      <td>1</td>\n",
       "      <td>5</td>\n",
       "      <td>2</td>\n",
       "      <td>3</td>\n",
       "    </tr>\n",
       "    <tr>\n",
       "      <th>Departure_Delay_in_Minutes</th>\n",
       "      <td>25</td>\n",
       "      <td>1</td>\n",
       "      <td>0</td>\n",
       "      <td>11</td>\n",
       "      <td>0</td>\n",
       "    </tr>\n",
       "    <tr>\n",
       "      <th>Arrival_Delay_in_Minutes</th>\n",
       "      <td>18.000000</td>\n",
       "      <td>6.000000</td>\n",
       "      <td>0.000000</td>\n",
       "      <td>9.000000</td>\n",
       "      <td>0.000000</td>\n",
       "    </tr>\n",
       "    <tr>\n",
       "      <th>satisfaction</th>\n",
       "      <td>neutral or dissatisfied</td>\n",
       "      <td>neutral or dissatisfied</td>\n",
       "      <td>satisfied</td>\n",
       "      <td>neutral or dissatisfied</td>\n",
       "      <td>satisfied</td>\n",
       "    </tr>\n",
       "  </tbody>\n",
       "</table>\n",
       "</div>"
      ],
      "text/plain": [
       "                                                         0  \\\n",
       "SR                                                       0   \n",
       "id                                                   70172   \n",
       "Gender                                                Male   \n",
       "Customer_Type                               Loyal Customer   \n",
       "Age                                                     13   \n",
       "Type_of_Travel                             Personal Travel   \n",
       "Class                                             Eco Plus   \n",
       "Flight_Distance                                        460   \n",
       "Inflight_wifi_service                                    3   \n",
       "Departure/Arrival_time_convenient                        4   \n",
       "Ease_of_Online_booking                                   3   \n",
       "Gate_location                                            1   \n",
       "Food_and_drink                                           5   \n",
       "Online_boarding                                          3   \n",
       "Seat_comfort                                             5   \n",
       "Inflight_entertainment                                   5   \n",
       "On-board_service                                         4   \n",
       "Leg_room_service                                         3   \n",
       "Baggage_handling                                         4   \n",
       "Checkin_service                                          4   \n",
       "Inflight_service                                         5   \n",
       "Cleanliness                                              5   \n",
       "Departure_Delay_in_Minutes                              25   \n",
       "Arrival_Delay_in_Minutes                         18.000000   \n",
       "satisfaction                       neutral or dissatisfied   \n",
       "\n",
       "                                                         1                2  \\\n",
       "SR                                                       1                2   \n",
       "id                                                    5047           110028   \n",
       "Gender                                                Male           Female   \n",
       "Customer_Type                            disloyal Customer   Loyal Customer   \n",
       "Age                                                     25               26   \n",
       "Type_of_Travel                             Business travel  Business travel   \n",
       "Class                                             Business         Business   \n",
       "Flight_Distance                                        235             1142   \n",
       "Inflight_wifi_service                                    3                2   \n",
       "Departure/Arrival_time_convenient                        2                2   \n",
       "Ease_of_Online_booking                                   3                2   \n",
       "Gate_location                                            3                2   \n",
       "Food_and_drink                                           1                5   \n",
       "Online_boarding                                          3                5   \n",
       "Seat_comfort                                             1                5   \n",
       "Inflight_entertainment                                   1                5   \n",
       "On-board_service                                         1                4   \n",
       "Leg_room_service                                         5                3   \n",
       "Baggage_handling                                         3                4   \n",
       "Checkin_service                                          1                4   \n",
       "Inflight_service                                         4                4   \n",
       "Cleanliness                                              1                5   \n",
       "Departure_Delay_in_Minutes                               1                0   \n",
       "Arrival_Delay_in_Minutes                          6.000000         0.000000   \n",
       "satisfaction                       neutral or dissatisfied        satisfied   \n",
       "\n",
       "                                                         3                4  \n",
       "SR                                                       3                4  \n",
       "id                                                   24026           119299  \n",
       "Gender                                              Female             Male  \n",
       "Customer_Type                               Loyal Customer   Loyal Customer  \n",
       "Age                                                     25               61  \n",
       "Type_of_Travel                             Business travel  Business travel  \n",
       "Class                                             Business         Business  \n",
       "Flight_Distance                                        562              214  \n",
       "Inflight_wifi_service                                    2                3  \n",
       "Departure/Arrival_time_convenient                        5                3  \n",
       "Ease_of_Online_booking                                   5                3  \n",
       "Gate_location                                            5                3  \n",
       "Food_and_drink                                           2                4  \n",
       "Online_boarding                                          2                5  \n",
       "Seat_comfort                                             2                5  \n",
       "Inflight_entertainment                                   2                3  \n",
       "On-board_service                                         2                3  \n",
       "Leg_room_service                                         5                4  \n",
       "Baggage_handling                                         3                4  \n",
       "Checkin_service                                          1                3  \n",
       "Inflight_service                                         4                3  \n",
       "Cleanliness                                              2                3  \n",
       "Departure_Delay_in_Minutes                              11                0  \n",
       "Arrival_Delay_in_Minutes                          9.000000         0.000000  \n",
       "satisfaction                       neutral or dissatisfied        satisfied  "
      ]
     },
     "execution_count": 9,
     "metadata": {},
     "output_type": "execute_result"
    }
   ],
   "source": [
    "airline_passenger_satisfaction = pd.read_csv(file_name)\n",
    "airline_passenger_satisfaction.head().T"
   ]
  },
  {
   "cell_type": "markdown",
   "id": "095ed056",
   "metadata": {},
   "source": [
    "### Find and report missing values"
   ]
  },
  {
   "cell_type": "code",
   "execution_count": 10,
   "id": "f35d1da7",
   "metadata": {},
   "outputs": [
    {
     "name": "stdout",
     "output_type": "stream",
     "text": [
      "Your selected dataframe has 25 columns and 103904 Rows.\n",
      "There are 1 columns that have missing values.\n"
     ]
    },
    {
     "data": {
      "text/html": [
       "<div>\n",
       "<style scoped>\n",
       "    .dataframe tbody tr th:only-of-type {\n",
       "        vertical-align: middle;\n",
       "    }\n",
       "\n",
       "    .dataframe tbody tr th {\n",
       "        vertical-align: top;\n",
       "    }\n",
       "\n",
       "    .dataframe thead th {\n",
       "        text-align: right;\n",
       "    }\n",
       "</style>\n",
       "<table border=\"1\" class=\"dataframe\">\n",
       "  <thead>\n",
       "    <tr style=\"text-align: right;\">\n",
       "      <th></th>\n",
       "      <th>Zero Values</th>\n",
       "      <th>Missing Values</th>\n",
       "      <th>% of Total Values</th>\n",
       "      <th>Total Zero &amp; Missing Values</th>\n",
       "      <th>% Total Zero &amp; Missing Values</th>\n",
       "      <th>Data Type</th>\n",
       "    </tr>\n",
       "  </thead>\n",
       "  <tbody>\n",
       "    <tr>\n",
       "      <th>Arrival_Delay_in_Minutes</th>\n",
       "      <td>58159</td>\n",
       "      <td>310</td>\n",
       "      <td>0.300000</td>\n",
       "      <td>58469</td>\n",
       "      <td>56.300000</td>\n",
       "      <td>float64</td>\n",
       "    </tr>\n",
       "  </tbody>\n",
       "</table>\n",
       "</div>"
      ],
      "text/plain": [
       "                          Zero Values  Missing Values  % of Total Values  \\\n",
       "Arrival_Delay_in_Minutes        58159             310           0.300000   \n",
       "\n",
       "                          Total Zero & Missing Values  \\\n",
       "Arrival_Delay_in_Minutes                        58469   \n",
       "\n",
       "                          % Total Zero & Missing Values Data Type  \n",
       "Arrival_Delay_in_Minutes                      56.300000   float64  "
      ]
     },
     "execution_count": 10,
     "metadata": {},
     "output_type": "execute_result"
    }
   ],
   "source": [
    "missing_zero_values_table(airline_passenger_satisfaction)"
   ]
  },
  {
   "cell_type": "code",
   "execution_count": 11,
   "id": "8e387b39",
   "metadata": {},
   "outputs": [],
   "source": [
    "df            =    airline_passenger_satisfaction.copy()"
   ]
  },
  {
   "cell_type": "code",
   "execution_count": 12,
   "id": "a7f579cd",
   "metadata": {},
   "outputs": [],
   "source": [
    "df['satisfaction'].replace('neutral or dissatisfied', 1, inplace = True)\n",
    "df['satisfaction'].replace('satisfied', 0, inplace = True)"
   ]
  },
  {
   "cell_type": "code",
   "execution_count": 13,
   "id": "b2e2bcfc",
   "metadata": {},
   "outputs": [],
   "source": [
    "ord_enc                                             = OrdinalEncoder()"
   ]
  },
  {
   "cell_type": "code",
   "execution_count": 14,
   "id": "5ffccdcb",
   "metadata": {},
   "outputs": [],
   "source": [
    "df['Gender_code']          = ord_enc.fit_transform(df[['Gender']])\n",
    "df['Customer_Type_code']   = ord_enc.fit_transform(df[['Customer_Type']])\n",
    "df['Type_of_Travel_code']  = ord_enc.fit_transform(df[['Type_of_Travel']])\n",
    "df['Class_code']           = ord_enc.fit_transform(df[['Class']])"
   ]
  },
  {
   "cell_type": "code",
   "execution_count": 15,
   "id": "ba06d802",
   "metadata": {},
   "outputs": [
    {
     "name": "stdout",
     "output_type": "stream",
     "text": [
      "(103904, 25)\n",
      "Index(['SR', 'id', 'Age', 'Flight_Distance', 'Inflight_wifi_service',\n",
      "       'Departure/Arrival_time_convenient', 'Ease_of_Online_booking',\n",
      "       'Gate_location', 'Food_and_drink', 'Online_boarding', 'Seat_comfort',\n",
      "       'Inflight_entertainment', 'On-board_service', 'Leg_room_service',\n",
      "       'Baggage_handling', 'Checkin_service', 'Inflight_service',\n",
      "       'Cleanliness', 'Departure_Delay_in_Minutes', 'Arrival_Delay_in_Minutes',\n",
      "       'satisfaction', 'Gender_code', 'Customer_Type_code',\n",
      "       'Type_of_Travel_code', 'Class_code'],\n",
      "      dtype='object')\n"
     ]
    }
   ],
   "source": [
    "num_variables_df = df.select_dtypes(include = 'number')\n",
    "print(num_variables_df.shape)\n",
    "print(num_variables_df.columns)"
   ]
  },
  {
   "cell_type": "code",
   "execution_count": 16,
   "id": "48134097",
   "metadata": {},
   "outputs": [
    {
     "name": "stdout",
     "output_type": "stream",
     "text": [
      "[IterativeImputer] Completing matrix with shape (103904, 25)\n",
      "[IterativeImputer] Ending imputation round 1/10, elapsed time 3.88\n",
      "[IterativeImputer] Change: 432.36012114619695, scaled tolerance: 129.88 \n",
      "[IterativeImputer] Ending imputation round 2/10, elapsed time 7.46\n",
      "[IterativeImputer] Change: 0.0, scaled tolerance: 129.88 \n",
      "[IterativeImputer] Early stopping criterion reached.\n"
     ]
    }
   ],
   "source": [
    "lreg         =  LinearRegression()\n",
    "imp          =  IterativeImputer(estimator= lreg, missing_values = np.nan, max_iter = 10, verbose = 2,\\\n",
    "                                 imputation_order= 'roman',random_state = 0)\n",
    "X            =  imp.fit_transform(num_variables_df)"
   ]
  },
  {
   "cell_type": "code",
   "execution_count": 17,
   "id": "15774b1f",
   "metadata": {},
   "outputs": [],
   "source": [
    "X_df           =    pd.DataFrame(X, columns = ['SR', 'id', 'Age', 'Flight_Distance', 'Inflight_wifi_service',\n",
    "       'Departure/Arrival_time_convenient', 'Ease_of_Online_booking',\n",
    "       'Gate_location', 'Food_and_drink', 'Online_boarding', 'Seat_comfort',\n",
    "       'Inflight_entertainment', 'On-board_service', 'Leg_room_service',\n",
    "       'Baggage_handling', 'Checkin_service', 'Inflight_service',\n",
    "       'Cleanliness', 'Departure_Delay_in_Minutes', 'Arrival_Delay_in_Minutes',\n",
    "       'satisfaction', 'Gender_code', 'Customer_Type_code',\n",
    "       'Type_of_Travel_code', 'Class_code'])"
   ]
  },
  {
   "cell_type": "code",
   "execution_count": 18,
   "id": "d9f6f4f8",
   "metadata": {},
   "outputs": [
    {
     "name": "stdout",
     "output_type": "stream",
     "text": [
      "Your selected dataframe has 25 columns and 103904 Rows.\n",
      "There are 0 columns that have missing values.\n"
     ]
    },
    {
     "data": {
      "text/html": [
       "<div>\n",
       "<style scoped>\n",
       "    .dataframe tbody tr th:only-of-type {\n",
       "        vertical-align: middle;\n",
       "    }\n",
       "\n",
       "    .dataframe tbody tr th {\n",
       "        vertical-align: top;\n",
       "    }\n",
       "\n",
       "    .dataframe thead th {\n",
       "        text-align: right;\n",
       "    }\n",
       "</style>\n",
       "<table border=\"1\" class=\"dataframe\">\n",
       "  <thead>\n",
       "    <tr style=\"text-align: right;\">\n",
       "      <th></th>\n",
       "      <th>Zero Values</th>\n",
       "      <th>Missing Values</th>\n",
       "      <th>% of Total Values</th>\n",
       "      <th>Total Zero &amp; Missing Values</th>\n",
       "      <th>% Total Zero &amp; Missing Values</th>\n",
       "      <th>Data Type</th>\n",
       "    </tr>\n",
       "  </thead>\n",
       "  <tbody>\n",
       "  </tbody>\n",
       "</table>\n",
       "</div>"
      ],
      "text/plain": [
       "Empty DataFrame\n",
       "Columns: [Zero Values, Missing Values, % of Total Values, Total Zero & Missing Values, % Total Zero & Missing Values, Data Type]\n",
       "Index: []"
      ]
     },
     "execution_count": 18,
     "metadata": {},
     "output_type": "execute_result"
    }
   ],
   "source": [
    "missing_zero_values_table(X_df)  "
   ]
  },
  {
   "cell_type": "code",
   "execution_count": 19,
   "id": "3d03a396",
   "metadata": {},
   "outputs": [
    {
     "name": "stdout",
     "output_type": "stream",
     "text": [
      "<class 'pandas.core.frame.DataFrame'>\n",
      "RangeIndex: 103904 entries, 0 to 103903\n",
      "Data columns (total 25 columns):\n",
      " #   Column                             Non-Null Count   Dtype  \n",
      "---  ------                             --------------   -----  \n",
      " 0   SR                                 103904 non-null  float64\n",
      " 1   id                                 103904 non-null  float64\n",
      " 2   Age                                103904 non-null  float64\n",
      " 3   Flight_Distance                    103904 non-null  float64\n",
      " 4   Inflight_wifi_service              103904 non-null  float64\n",
      " 5   Departure/Arrival_time_convenient  103904 non-null  float64\n",
      " 6   Ease_of_Online_booking             103904 non-null  float64\n",
      " 7   Gate_location                      103904 non-null  float64\n",
      " 8   Food_and_drink                     103904 non-null  float64\n",
      " 9   Online_boarding                    103904 non-null  float64\n",
      " 10  Seat_comfort                       103904 non-null  float64\n",
      " 11  Inflight_entertainment             103904 non-null  float64\n",
      " 12  On-board_service                   103904 non-null  float64\n",
      " 13  Leg_room_service                   103904 non-null  float64\n",
      " 14  Baggage_handling                   103904 non-null  float64\n",
      " 15  Checkin_service                    103904 non-null  float64\n",
      " 16  Inflight_service                   103904 non-null  float64\n",
      " 17  Cleanliness                        103904 non-null  float64\n",
      " 18  Departure_Delay_in_Minutes         103904 non-null  float64\n",
      " 19  Arrival_Delay_in_Minutes           103904 non-null  float64\n",
      " 20  satisfaction                       103904 non-null  float64\n",
      " 21  Gender_code                        103904 non-null  float64\n",
      " 22  Customer_Type_code                 103904 non-null  float64\n",
      " 23  Type_of_Travel_code                103904 non-null  float64\n",
      " 24  Class_code                         103904 non-null  float64\n",
      "dtypes: float64(25)\n",
      "memory usage: 19.8 MB\n"
     ]
    }
   ],
   "source": [
    "X_df.info()"
   ]
  },
  {
   "cell_type": "code",
   "execution_count": 20,
   "id": "f84a8d30",
   "metadata": {},
   "outputs": [
    {
     "data": {
      "text/html": [
       "<div>\n",
       "<style scoped>\n",
       "    .dataframe tbody tr th:only-of-type {\n",
       "        vertical-align: middle;\n",
       "    }\n",
       "\n",
       "    .dataframe tbody tr th {\n",
       "        vertical-align: top;\n",
       "    }\n",
       "\n",
       "    .dataframe thead th {\n",
       "        text-align: right;\n",
       "    }\n",
       "</style>\n",
       "<table border=\"1\" class=\"dataframe\">\n",
       "  <thead>\n",
       "    <tr style=\"text-align: right;\">\n",
       "      <th></th>\n",
       "      <th>0</th>\n",
       "      <th>1</th>\n",
       "      <th>2</th>\n",
       "      <th>3</th>\n",
       "      <th>4</th>\n",
       "    </tr>\n",
       "  </thead>\n",
       "  <tbody>\n",
       "    <tr>\n",
       "      <th>SR</th>\n",
       "      <td>0.000000</td>\n",
       "      <td>1.000000</td>\n",
       "      <td>2.000000</td>\n",
       "      <td>3.000000</td>\n",
       "      <td>4.000000</td>\n",
       "    </tr>\n",
       "    <tr>\n",
       "      <th>id</th>\n",
       "      <td>70172.000000</td>\n",
       "      <td>5047.000000</td>\n",
       "      <td>110028.000000</td>\n",
       "      <td>24026.000000</td>\n",
       "      <td>119299.000000</td>\n",
       "    </tr>\n",
       "    <tr>\n",
       "      <th>Age</th>\n",
       "      <td>13.000000</td>\n",
       "      <td>25.000000</td>\n",
       "      <td>26.000000</td>\n",
       "      <td>25.000000</td>\n",
       "      <td>61.000000</td>\n",
       "    </tr>\n",
       "    <tr>\n",
       "      <th>Flight_Distance</th>\n",
       "      <td>460.000000</td>\n",
       "      <td>235.000000</td>\n",
       "      <td>1142.000000</td>\n",
       "      <td>562.000000</td>\n",
       "      <td>214.000000</td>\n",
       "    </tr>\n",
       "    <tr>\n",
       "      <th>Inflight_wifi_service</th>\n",
       "      <td>3.000000</td>\n",
       "      <td>3.000000</td>\n",
       "      <td>2.000000</td>\n",
       "      <td>2.000000</td>\n",
       "      <td>3.000000</td>\n",
       "    </tr>\n",
       "    <tr>\n",
       "      <th>Departure/Arrival_time_convenient</th>\n",
       "      <td>4.000000</td>\n",
       "      <td>2.000000</td>\n",
       "      <td>2.000000</td>\n",
       "      <td>5.000000</td>\n",
       "      <td>3.000000</td>\n",
       "    </tr>\n",
       "    <tr>\n",
       "      <th>Ease_of_Online_booking</th>\n",
       "      <td>3.000000</td>\n",
       "      <td>3.000000</td>\n",
       "      <td>2.000000</td>\n",
       "      <td>5.000000</td>\n",
       "      <td>3.000000</td>\n",
       "    </tr>\n",
       "    <tr>\n",
       "      <th>Gate_location</th>\n",
       "      <td>1.000000</td>\n",
       "      <td>3.000000</td>\n",
       "      <td>2.000000</td>\n",
       "      <td>5.000000</td>\n",
       "      <td>3.000000</td>\n",
       "    </tr>\n",
       "    <tr>\n",
       "      <th>Food_and_drink</th>\n",
       "      <td>5.000000</td>\n",
       "      <td>1.000000</td>\n",
       "      <td>5.000000</td>\n",
       "      <td>2.000000</td>\n",
       "      <td>4.000000</td>\n",
       "    </tr>\n",
       "    <tr>\n",
       "      <th>Online_boarding</th>\n",
       "      <td>3.000000</td>\n",
       "      <td>3.000000</td>\n",
       "      <td>5.000000</td>\n",
       "      <td>2.000000</td>\n",
       "      <td>5.000000</td>\n",
       "    </tr>\n",
       "    <tr>\n",
       "      <th>Seat_comfort</th>\n",
       "      <td>5.000000</td>\n",
       "      <td>1.000000</td>\n",
       "      <td>5.000000</td>\n",
       "      <td>2.000000</td>\n",
       "      <td>5.000000</td>\n",
       "    </tr>\n",
       "    <tr>\n",
       "      <th>Inflight_entertainment</th>\n",
       "      <td>5.000000</td>\n",
       "      <td>1.000000</td>\n",
       "      <td>5.000000</td>\n",
       "      <td>2.000000</td>\n",
       "      <td>3.000000</td>\n",
       "    </tr>\n",
       "    <tr>\n",
       "      <th>On-board_service</th>\n",
       "      <td>4.000000</td>\n",
       "      <td>1.000000</td>\n",
       "      <td>4.000000</td>\n",
       "      <td>2.000000</td>\n",
       "      <td>3.000000</td>\n",
       "    </tr>\n",
       "    <tr>\n",
       "      <th>Leg_room_service</th>\n",
       "      <td>3.000000</td>\n",
       "      <td>5.000000</td>\n",
       "      <td>3.000000</td>\n",
       "      <td>5.000000</td>\n",
       "      <td>4.000000</td>\n",
       "    </tr>\n",
       "    <tr>\n",
       "      <th>Baggage_handling</th>\n",
       "      <td>4.000000</td>\n",
       "      <td>3.000000</td>\n",
       "      <td>4.000000</td>\n",
       "      <td>3.000000</td>\n",
       "      <td>4.000000</td>\n",
       "    </tr>\n",
       "    <tr>\n",
       "      <th>Checkin_service</th>\n",
       "      <td>4.000000</td>\n",
       "      <td>1.000000</td>\n",
       "      <td>4.000000</td>\n",
       "      <td>1.000000</td>\n",
       "      <td>3.000000</td>\n",
       "    </tr>\n",
       "    <tr>\n",
       "      <th>Inflight_service</th>\n",
       "      <td>5.000000</td>\n",
       "      <td>4.000000</td>\n",
       "      <td>4.000000</td>\n",
       "      <td>4.000000</td>\n",
       "      <td>3.000000</td>\n",
       "    </tr>\n",
       "    <tr>\n",
       "      <th>Cleanliness</th>\n",
       "      <td>5.000000</td>\n",
       "      <td>1.000000</td>\n",
       "      <td>5.000000</td>\n",
       "      <td>2.000000</td>\n",
       "      <td>3.000000</td>\n",
       "    </tr>\n",
       "    <tr>\n",
       "      <th>Departure_Delay_in_Minutes</th>\n",
       "      <td>25.000000</td>\n",
       "      <td>1.000000</td>\n",
       "      <td>0.000000</td>\n",
       "      <td>11.000000</td>\n",
       "      <td>0.000000</td>\n",
       "    </tr>\n",
       "    <tr>\n",
       "      <th>Arrival_Delay_in_Minutes</th>\n",
       "      <td>18.000000</td>\n",
       "      <td>6.000000</td>\n",
       "      <td>0.000000</td>\n",
       "      <td>9.000000</td>\n",
       "      <td>0.000000</td>\n",
       "    </tr>\n",
       "    <tr>\n",
       "      <th>satisfaction</th>\n",
       "      <td>1.000000</td>\n",
       "      <td>1.000000</td>\n",
       "      <td>0.000000</td>\n",
       "      <td>1.000000</td>\n",
       "      <td>0.000000</td>\n",
       "    </tr>\n",
       "    <tr>\n",
       "      <th>Gender_code</th>\n",
       "      <td>1.000000</td>\n",
       "      <td>1.000000</td>\n",
       "      <td>0.000000</td>\n",
       "      <td>0.000000</td>\n",
       "      <td>1.000000</td>\n",
       "    </tr>\n",
       "    <tr>\n",
       "      <th>Customer_Type_code</th>\n",
       "      <td>0.000000</td>\n",
       "      <td>1.000000</td>\n",
       "      <td>0.000000</td>\n",
       "      <td>0.000000</td>\n",
       "      <td>0.000000</td>\n",
       "    </tr>\n",
       "    <tr>\n",
       "      <th>Type_of_Travel_code</th>\n",
       "      <td>1.000000</td>\n",
       "      <td>0.000000</td>\n",
       "      <td>0.000000</td>\n",
       "      <td>0.000000</td>\n",
       "      <td>0.000000</td>\n",
       "    </tr>\n",
       "    <tr>\n",
       "      <th>Class_code</th>\n",
       "      <td>2.000000</td>\n",
       "      <td>0.000000</td>\n",
       "      <td>0.000000</td>\n",
       "      <td>0.000000</td>\n",
       "      <td>0.000000</td>\n",
       "    </tr>\n",
       "  </tbody>\n",
       "</table>\n",
       "</div>"
      ],
      "text/plain": [
       "                                             0           1             2  \\\n",
       "SR                                    0.000000    1.000000      2.000000   \n",
       "id                                70172.000000 5047.000000 110028.000000   \n",
       "Age                                  13.000000   25.000000     26.000000   \n",
       "Flight_Distance                     460.000000  235.000000   1142.000000   \n",
       "Inflight_wifi_service                 3.000000    3.000000      2.000000   \n",
       "Departure/Arrival_time_convenient     4.000000    2.000000      2.000000   \n",
       "Ease_of_Online_booking                3.000000    3.000000      2.000000   \n",
       "Gate_location                         1.000000    3.000000      2.000000   \n",
       "Food_and_drink                        5.000000    1.000000      5.000000   \n",
       "Online_boarding                       3.000000    3.000000      5.000000   \n",
       "Seat_comfort                          5.000000    1.000000      5.000000   \n",
       "Inflight_entertainment                5.000000    1.000000      5.000000   \n",
       "On-board_service                      4.000000    1.000000      4.000000   \n",
       "Leg_room_service                      3.000000    5.000000      3.000000   \n",
       "Baggage_handling                      4.000000    3.000000      4.000000   \n",
       "Checkin_service                       4.000000    1.000000      4.000000   \n",
       "Inflight_service                      5.000000    4.000000      4.000000   \n",
       "Cleanliness                           5.000000    1.000000      5.000000   \n",
       "Departure_Delay_in_Minutes           25.000000    1.000000      0.000000   \n",
       "Arrival_Delay_in_Minutes             18.000000    6.000000      0.000000   \n",
       "satisfaction                          1.000000    1.000000      0.000000   \n",
       "Gender_code                           1.000000    1.000000      0.000000   \n",
       "Customer_Type_code                    0.000000    1.000000      0.000000   \n",
       "Type_of_Travel_code                   1.000000    0.000000      0.000000   \n",
       "Class_code                            2.000000    0.000000      0.000000   \n",
       "\n",
       "                                             3             4  \n",
       "SR                                    3.000000      4.000000  \n",
       "id                                24026.000000 119299.000000  \n",
       "Age                                  25.000000     61.000000  \n",
       "Flight_Distance                     562.000000    214.000000  \n",
       "Inflight_wifi_service                 2.000000      3.000000  \n",
       "Departure/Arrival_time_convenient     5.000000      3.000000  \n",
       "Ease_of_Online_booking                5.000000      3.000000  \n",
       "Gate_location                         5.000000      3.000000  \n",
       "Food_and_drink                        2.000000      4.000000  \n",
       "Online_boarding                       2.000000      5.000000  \n",
       "Seat_comfort                          2.000000      5.000000  \n",
       "Inflight_entertainment                2.000000      3.000000  \n",
       "On-board_service                      2.000000      3.000000  \n",
       "Leg_room_service                      5.000000      4.000000  \n",
       "Baggage_handling                      3.000000      4.000000  \n",
       "Checkin_service                       1.000000      3.000000  \n",
       "Inflight_service                      4.000000      3.000000  \n",
       "Cleanliness                           2.000000      3.000000  \n",
       "Departure_Delay_in_Minutes           11.000000      0.000000  \n",
       "Arrival_Delay_in_Minutes              9.000000      0.000000  \n",
       "satisfaction                          1.000000      0.000000  \n",
       "Gender_code                           0.000000      1.000000  \n",
       "Customer_Type_code                    0.000000      0.000000  \n",
       "Type_of_Travel_code                   0.000000      0.000000  \n",
       "Class_code                            0.000000      0.000000  "
      ]
     },
     "execution_count": 20,
     "metadata": {},
     "output_type": "execute_result"
    }
   ],
   "source": [
    "X_df.head().T"
   ]
  },
  {
   "cell_type": "code",
   "execution_count": 21,
   "id": "88361f99",
   "metadata": {},
   "outputs": [
    {
     "name": "stdout",
     "output_type": "stream",
     "text": [
      "<class 'pandas.core.frame.DataFrame'>\n",
      "RangeIndex: 103904 entries, 0 to 103903\n",
      "Data columns (total 25 columns):\n",
      " #   Column                             Non-Null Count   Dtype  \n",
      "---  ------                             --------------   -----  \n",
      " 0   SR                                 103904 non-null  int32  \n",
      " 1   id                                 103904 non-null  int32  \n",
      " 2   Age                                103904 non-null  int32  \n",
      " 3   Flight_Distance                    103904 non-null  int32  \n",
      " 4   Inflight_wifi_service              103904 non-null  int32  \n",
      " 5   Departure/Arrival_time_convenient  103904 non-null  int32  \n",
      " 6   Ease_of_Online_booking             103904 non-null  int32  \n",
      " 7   Gate_location                      103904 non-null  int32  \n",
      " 8   Food_and_drink                     103904 non-null  int32  \n",
      " 9   Online_boarding                    103904 non-null  int32  \n",
      " 10  Seat_comfort                       103904 non-null  int32  \n",
      " 11  Inflight_entertainment             103904 non-null  int32  \n",
      " 12  On-board_service                   103904 non-null  int32  \n",
      " 13  Leg_room_service                   103904 non-null  int32  \n",
      " 14  Baggage_handling                   103904 non-null  int32  \n",
      " 15  Checkin_service                    103904 non-null  int32  \n",
      " 16  Inflight_service                   103904 non-null  int32  \n",
      " 17  Cleanliness                        103904 non-null  int32  \n",
      " 18  Departure_Delay_in_Minutes         103904 non-null  float64\n",
      " 19  Arrival_Delay_in_Minutes           103904 non-null  float64\n",
      " 20  satisfaction                       103904 non-null  int32  \n",
      " 21  Gender_code                        103904 non-null  int32  \n",
      " 22  Customer_Type_code                 103904 non-null  int32  \n",
      " 23  Type_of_Travel_code                103904 non-null  int32  \n",
      " 24  Class_code                         103904 non-null  int32  \n",
      "dtypes: float64(2), int32(23)\n",
      "memory usage: 10.7 MB\n"
     ]
    }
   ],
   "source": [
    "int_type_cols = ['SR', 'id', 'Age', 'Flight_Distance', 'Inflight_wifi_service',\n",
    "       'Departure/Arrival_time_convenient', 'Ease_of_Online_booking',\n",
    "       'Gate_location', 'Food_and_drink', 'Online_boarding', 'Seat_comfort',\n",
    "       'Inflight_entertainment', 'On-board_service', 'Leg_room_service',\n",
    "       'Baggage_handling', 'Checkin_service', 'Inflight_service',\n",
    "       'Cleanliness', 'satisfaction', 'Gender_code', 'Customer_Type_code',\n",
    "       'Type_of_Travel_code', 'Class_code']\n",
    "X_df[int_type_cols] = X_df[int_type_cols].astype(int)\n",
    "X_df.info()"
   ]
  },
  {
   "cell_type": "code",
   "execution_count": 22,
   "id": "d3dce382",
   "metadata": {},
   "outputs": [
    {
     "data": {
      "text/plain": [
       "<AxesSubplot:xlabel='index', ylabel='satisfaction'>"
      ]
     },
     "execution_count": 22,
     "metadata": {},
     "output_type": "execute_result"
    },
    {
     "data": {
      "image/png": "[encoded data removed]",
      "text/plain": [
       "<Figure size 720x720 with 1 Axes>"
      ]
     },
     "metadata": {},
     "output_type": "display_data"
    }
   ],
   "source": [
    "vc  =  airline_passenger_satisfaction['satisfaction'].value_counts().reset_index()\n",
    "sns.barplot(x = 'index', y = 'satisfaction', data = vc,  palette = 'cividis')"
   ]
  },
  {
   "cell_type": "markdown",
   "id": "63344394",
   "metadata": {},
   "source": [
    "### Observations\n",
    "\n",
    "##### Dataset is not perfectly balanced. We need to use Precision, Recall of the minority class apart from AUROC as performance measures"
   ]
  },
  {
   "cell_type": "markdown",
   "id": "528908dd",
   "metadata": {},
   "source": [
    "### Prepare the dataset for building models"
   ]
  },
  {
   "cell_type": "code",
   "execution_count": 23,
   "id": "f0cc2e60",
   "metadata": {},
   "outputs": [],
   "source": [
    "transformed_data_filename       =   './Output/transformed-data-' + str(datetime.now().strftime('%Y_%m_%d_%H_%M_%S')) + '.csv'\n",
    "X_df.to_csv(transformed_data_filename, index = False)"
   ]
  },
  {
   "cell_type": "markdown",
   "id": "e0f164c5",
   "metadata": {},
   "source": [
    "### 3) EDA "
   ]
  },
  {
   "cell_type": "markdown",
   "id": "2d622136",
   "metadata": {},
   "source": [
    "#### Replace imputed values for the column, satisfaction before  doing EDA"
   ]
  },
  {
   "cell_type": "code",
   "execution_count": 24,
   "id": "e88f01f4",
   "metadata": {},
   "outputs": [],
   "source": [
    "X_df['satisfaction'].replace(1, 'neutral or dissatisfied', inplace = True)\n",
    "X_df['satisfaction'].replace(0, 'satisfied', inplace = True)"
   ]
  },
  {
   "cell_type": "code",
   "execution_count": 25,
   "id": "bc5d8b85",
   "metadata": {},
   "outputs": [],
   "source": [
    "airline_passenger_satisfaction['satisfaction']  =   X_df['satisfaction']"
   ]
  },
  {
   "cell_type": "markdown",
   "id": "274a5e8b",
   "metadata": {},
   "source": [
    "### 3.1 Satisfaction of Airline passengers Vs Age, Gender & Class"
   ]
  },
  {
   "cell_type": "code",
   "execution_count": 26,
   "id": "e2881018",
   "metadata": {},
   "outputs": [
    {
     "name": "stdout",
     "output_type": "stream",
     "text": [
      "Age, Gender Vs Satisfaction of Airline Passengers\n"
     ]
    },
    {
     "data": {
      "image/png": "[encoded data removed]",
      "text/plain": [
       "<Figure size 1156.35x360 with 3 Axes>"
      ]
     },
     "metadata": {},
     "output_type": "display_data"
    }
   ],
   "source": [
    "titlex = 'Age, Gender Vs Satisfaction of Airline Passengers'\n",
    "sns.catplot(data = airline_passenger_satisfaction, x = 'satisfaction', y = 'Age', col = 'Class', hue = 'Gender', kind = 'box')\n",
    "print(titlex)\n",
    "plt.xlabel('Satisfaction')\n",
    "plt.ylabel('Age')\n",
    "plt.show()"
   ]
  },
  {
   "cell_type": "markdown",
   "id": "25c987fd",
   "metadata": {},
   "source": [
    "### 3.2 Satisfaction of Airline passengers Vs Flight Distance, Gender & Class"
   ]
  },
  {
   "cell_type": "code",
   "execution_count": 27,
   "id": "44eed062",
   "metadata": {},
   "outputs": [
    {
     "name": "stdout",
     "output_type": "stream",
     "text": [
      "Flight_Distance, Class Vs Satisfaction of Airline Passengers\n"
     ]
    },
    {
     "data": {
      "image/png": "[encoded data removed]",
      "text/plain": [
       "<Figure size 803.975x360 with 2 Axes>"
      ]
     },
     "metadata": {},
     "output_type": "display_data"
    }
   ],
   "source": [
    "sns.catplot(data = airline_passenger_satisfaction, x = 'satisfaction', y = 'Flight_Distance', col = 'Gender',\\\n",
    "            hue = 'Class', kind = 'box')\n",
    "titlex =  'Flight_Distance, Class Vs Satisfaction of Airline Passengers'\n",
    "print(titlex)\n",
    "plt.xlabel('Satisfaction')\n",
    "plt.ylabel('Flight_Distance')\n",
    "plt.show()"
   ]
  },
  {
   "cell_type": "markdown",
   "id": "6d0716ff",
   "metadata": {},
   "source": [
    "### 3.3 Satisfaction of Airline passengers Vs Flight Distance, Type_of_Travel & Gender"
   ]
  },
  {
   "cell_type": "code",
   "execution_count": 28,
   "id": "527de368",
   "metadata": {},
   "outputs": [
    {
     "name": "stdout",
     "output_type": "stream",
     "text": [
      "Flight_Distance, Type_of_Travel Vs Satisfaction of Airline Passengers\n"
     ]
    },
    {
     "data": {
      "image/png": "[encoded data removed]",
      "text/plain": [
       "<Figure size 836.225x360 with 2 Axes>"
      ]
     },
     "metadata": {},
     "output_type": "display_data"
    }
   ],
   "source": [
    "titlex  =  'Flight_Distance, Type_of_Travel Vs Satisfaction of Airline Passengers'\n",
    "sns.catplot(data = airline_passenger_satisfaction, x = 'satisfaction', y = 'Flight_Distance', col = 'Gender',\\\n",
    "            hue = 'Type_of_Travel', kind = 'box')\n",
    "print(titlex)\n",
    "plt.xlabel('Satisfaction')\n",
    "plt.ylabel('Flight_Distance')\n",
    "plt.show()"
   ]
  },
  {
   "cell_type": "markdown",
   "id": "233d93e3",
   "metadata": {},
   "source": [
    "### 3.4 Satisfaction of Airline passengers Vs Departure_Delay_in_Minutes, Type_of_Travel & Gender"
   ]
  },
  {
   "cell_type": "code",
   "execution_count": 29,
   "id": "1a737e1d",
   "metadata": {},
   "outputs": [
    {
     "name": "stdout",
     "output_type": "stream",
     "text": [
      "\n",
      "Departure_Delay_in_Minutes, Type_of_Travel Vs Satisfaction of Airline Passengers\n",
      "\n"
     ]
    },
    {
     "data": {
      "image/png": "[encoded data removed]",
      "text/plain": [
       "<Figure size 836.225x360 with 2 Axes>"
      ]
     },
     "metadata": {},
     "output_type": "display_data"
    }
   ],
   "source": [
    "titlex  =  '\\nDeparture_Delay_in_Minutes, Type_of_Travel Vs Satisfaction of Airline Passengers\\n'\n",
    "sns.catplot(data = airline_passenger_satisfaction, x = 'satisfaction', y = 'Departure_Delay_in_Minutes',\\\n",
    "            col = 'Gender', hue = 'Type_of_Travel', kind = 'box')\n",
    "print(titlex)\n",
    "plt.xlabel('Satisfaction')\n",
    "plt.ylabel('Departure_Delay_in_Minutes')\n",
    "plt.show()"
   ]
  },
  {
   "cell_type": "markdown",
   "id": "bbb40cea",
   "metadata": {},
   "source": [
    "### 3.5 Satisfaction of Airline passengers Vs Arrival_Delay_in_Minutes, Type_of_Travel & Gender"
   ]
  },
  {
   "cell_type": "code",
   "execution_count": 30,
   "id": "cdfaffee",
   "metadata": {},
   "outputs": [
    {
     "name": "stdout",
     "output_type": "stream",
     "text": [
      "\n",
      "Arrival_Delay_in_Minutes, Type_of_Travel Vs Satisfaction of Airline Passengers\n",
      "\n"
     ]
    },
    {
     "data": {
      "image/png": "[encoded data removed]",
      "text/plain": [
       "<Figure size 836.225x360 with 2 Axes>"
      ]
     },
     "metadata": {},
     "output_type": "display_data"
    }
   ],
   "source": [
    "titlex  =  '\\nArrival_Delay_in_Minutes, Type_of_Travel Vs Satisfaction of Airline Passengers\\n'\n",
    "sns.catplot(data = airline_passenger_satisfaction, x = 'satisfaction', y = 'Arrival_Delay_in_Minutes',\\\n",
    "            col = 'Gender', hue = 'Type_of_Travel', kind = 'box')\n",
    "print(titlex)\n",
    "plt.xlabel('Satisfaction')\n",
    "plt.ylabel('Arrival_Delay_in_Minutes')\n",
    "plt.show()"
   ]
  },
  {
   "cell_type": "markdown",
   "id": "799fcc88",
   "metadata": {},
   "source": [
    "### END"
   ]
  }
 ],
 "metadata": {
  "kernelspec": {
   "display_name": "Python 3 (ipykernel)",
   "language": "python",
   "name": "python3"
  },
  "language_info": {
   "codemirror_mode": {
    "name": "ipython",
    "version": 3
   },
   "file_extension": ".py",
   "mimetype": "text/x-python",
   "name": "python",
   "nbconvert_exporter": "python",
   "pygments_lexer": "ipython3",
   "version": "3.9.12"
  }
 },
 "nbformat": 4,
 "nbformat_minor": 5
}
